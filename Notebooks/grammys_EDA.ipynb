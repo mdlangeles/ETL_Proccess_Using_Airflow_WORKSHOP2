{
 "cells": [
  {
   "cell_type": "markdown",
   "metadata": {},
   "source": [
    "## EDA Grammys Dataset\n",
    "By: María de los Ángeles Amú Moreno"
   ]
  },
  {
   "cell_type": "markdown",
   "metadata": {},
   "source": [
    "#### The step #1 is to import the modules, make the connection to the database, and load the data into it."
   ]
  },
  {
   "cell_type": "code",
   "execution_count": 1,
   "metadata": {},
   "outputs": [],
   "source": [
    "from sqlalchemy import Column, Integer, String, Boolean, Date, CHAR\n",
    "from sqlalchemy.orm import declarative_base\n",
    "from sqlalchemy import create_engine\n",
    "from sqlalchemy.orm import sessionmaker\n",
    "import json\n",
    "import pandas as pd\n",
    "import matplotlib.pyplot as plt\n",
    "from prettytable import PrettyTable\n",
    "import os\n",
    "import psycopg2"
   ]
  },
  {
   "cell_type": "markdown",
   "metadata": {},
   "source": [
    "Next, we created the database credentials called \"credentials_G.json\", and contains the user, password, port, server & database name, to make the connection with the database"
   ]
  },
  {
   "cell_type": "code",
   "execution_count": null,
   "metadata": {},
   "outputs": [],
   "source": [
    "with open('../credentials_G.json', 'r') as json_file:\n",
    "    data = json.load(json_file)\n",
    "    user = data[\"user\"]\n",
    "    password = data[\"password\"]\n",
    "    port= data[\"port\"]\n",
    "    server = data[\"server\"]\n",
    "    db = data[\"db\"]\n",
    "\n",
    "db_connection = f\"postgresql+psycopg2://{user}:{password}@{server}:{port}/{db}\"\n",
    "engine=create_engine(db_connection)"
   ]
  },
  {
   "cell_type": "markdown",
   "metadata": {},
   "source": [
    "The connection to the database was made correctly. To later create the table with the required columns."
   ]
  },
  {
   "cell_type": "code",
   "execution_count": 3,
   "metadata": {},
   "outputs": [],
   "source": [
    "Session = sessionmaker(bind=engine)\n",
    "session = Session()"
   ]
  },
  {
   "cell_type": "code",
   "execution_count": 6,
   "metadata": {},
   "outputs": [],
   "source": [
    "Base= declarative_base()\n",
    "\n",
    "class grammys(Base):\n",
    "    __tablename__ = 'grammys'\n",
    "    id = Column(Integer, primary_key=True, autoincrement=True)\n",
    "    year = Column(Integer)\n",
    "    title = Column(String)\n",
    "    published_at = Column(Date)\n",
    "    updated_at = Column(Date)\n",
    "    category = Column(String)\n",
    "    nominee = Column(String)\n",
    "    artist = Column(String)\n",
    "    workers = Column(String)\n",
    "    img = Column(String)\n",
    "    winner = Column(Boolean)\n",
    "\n",
    "\n",
    "engine = create_engine(db_connection)\n",
    "Base.metadata.create_all(engine)"
   ]
  },
  {
   "attachments": {
    "image-2.png": {
     "image/png": "[encoded data removed]"
    },
    "image.png": {
     "image/png": "[encoded data removed]"
    }
   },
   "cell_type": "markdown",
   "metadata": {},
   "source": [
    "Next, we can see that the table was created successfully:\n",
    "![image.png](attachment:image.png)\n",
    "![image-2.png](attachment:image-2.png)\n"
   ]
  },
  {
   "cell_type": "markdown",
   "metadata": {},
   "source": [
    "We upload the data in postgreSql:"
   ]
  },
  {
   "cell_type": "code",
   "execution_count": 10,
   "metadata": {},
   "outputs": [
    {
     "name": "stdout",
     "output_type": "stream",
     "text": [
      "Data inserted\n"
     ]
    }
   ],
   "source": [
    "class File:\n",
    "    def __init__(self, file):\n",
    "        self.df = pd.read_csv(file, sep=',', encoding='utf-8')\n",
    "\n",
    "file_path = '../Data/the_grammy_awards.csv'\n",
    "if os.path.exists(file_path):\n",
    "    data = File(file_path)\n",
    "    data.df.to_sql('grammys', engine, if_exists='replace', index=False)\n",
    "    print(\"Data inserted\")\n",
    "else:\n",
    "    print(f\"File '{file_path}' not found.\")\n"
   ]
  },
  {
   "cell_type": "markdown",
   "metadata": {},
   "source": [
    "Here, let's fetch the \"grammys\" table from postgreSQL to do the EDA."
   ]
  },
  {
   "cell_type": "code",
   "execution_count": 4,
   "metadata": {},
   "outputs": [],
   "source": [
    "engine = create_engine(db_connection) \n",
    "connection = engine.connect()\n",
    "table_name = 'grammys'  \n",
    "df = pd.read_sql_table(table_name, connection) \n",
    "grammys=df"
   ]
  },
  {
   "cell_type": "markdown",
   "metadata": {},
   "source": [
    "We make a \".head\" to have a preview of the table we will work with:"
   ]
  },
  {
   "cell_type": "code",
   "execution_count": 5,
   "metadata": {},
   "outputs": [
    {
     "data": {
      "text/html": [
       "<div>\n",
       "<style scoped>\n",
       "    .dataframe tbody tr th:only-of-type {\n",
       "        vertical-align: middle;\n",
       "    }\n",
       "\n",
       "    .dataframe tbody tr th {\n",
       "        vertical-align: top;\n",
       "    }\n",
       "\n",
       "    .dataframe thead th {\n",
       "        text-align: right;\n",
       "    }\n",
       "</style>\n",
       "<table border=\"1\" class=\"dataframe\">\n",
       "  <thead>\n",
       "    <tr style=\"text-align: right;\">\n",
       "      <th></th>\n",
       "      <th>year</th>\n",
       "      <th>title</th>\n",
       "      <th>published_at</th>\n",
       "      <th>updated_at</th>\n",
       "      <th>category</th>\n",
       "      <th>nominee</th>\n",
       "      <th>artist</th>\n",
       "      <th>workers</th>\n",
       "      <th>img</th>\n",
       "      <th>winner</th>\n",
       "    </tr>\n",
       "  </thead>\n",
       "  <tbody>\n",
       "    <tr>\n",
       "      <th>0</th>\n",
       "      <td>2019</td>\n",
       "      <td>62nd Annual GRAMMY Awards  (2019)</td>\n",
       "      <td>2020-05-19T05:10:28-07:00</td>\n",
       "      <td>2020-05-19T05:10:28-07:00</td>\n",
       "      <td>Record Of The Year</td>\n",
       "      <td>Bad Guy</td>\n",
       "      <td>Billie Eilish</td>\n",
       "      <td>Finneas O'Connell, producer; Rob Kinelski &amp; Fi...</td>\n",
       "      <td>https://www.grammy.com/sites/com/files/styles/...</td>\n",
       "      <td>True</td>\n",
       "    </tr>\n",
       "    <tr>\n",
       "      <th>1</th>\n",
       "      <td>2019</td>\n",
       "      <td>62nd Annual GRAMMY Awards  (2019)</td>\n",
       "      <td>2020-05-19T05:10:28-07:00</td>\n",
       "      <td>2020-05-19T05:10:28-07:00</td>\n",
       "      <td>Record Of The Year</td>\n",
       "      <td>Hey, Ma</td>\n",
       "      <td>Bon Iver</td>\n",
       "      <td>BJ Burton, Brad Cook, Chris Messina &amp; Justin V...</td>\n",
       "      <td>https://www.grammy.com/sites/com/files/styles/...</td>\n",
       "      <td>True</td>\n",
       "    </tr>\n",
       "    <tr>\n",
       "      <th>2</th>\n",
       "      <td>2019</td>\n",
       "      <td>62nd Annual GRAMMY Awards  (2019)</td>\n",
       "      <td>2020-05-19T05:10:28-07:00</td>\n",
       "      <td>2020-05-19T05:10:28-07:00</td>\n",
       "      <td>Record Of The Year</td>\n",
       "      <td>7 rings</td>\n",
       "      <td>Ariana Grande</td>\n",
       "      <td>Charles Anderson, Tommy Brown, Michael Foster ...</td>\n",
       "      <td>https://www.grammy.com/sites/com/files/styles/...</td>\n",
       "      <td>True</td>\n",
       "    </tr>\n",
       "    <tr>\n",
       "      <th>3</th>\n",
       "      <td>2019</td>\n",
       "      <td>62nd Annual GRAMMY Awards  (2019)</td>\n",
       "      <td>2020-05-19T05:10:28-07:00</td>\n",
       "      <td>2020-05-19T05:10:28-07:00</td>\n",
       "      <td>Record Of The Year</td>\n",
       "      <td>Hard Place</td>\n",
       "      <td>H.E.R.</td>\n",
       "      <td>Rodney “Darkchild” Jerkins, producer; Joseph H...</td>\n",
       "      <td>https://www.grammy.com/sites/com/files/styles/...</td>\n",
       "      <td>True</td>\n",
       "    </tr>\n",
       "    <tr>\n",
       "      <th>4</th>\n",
       "      <td>2019</td>\n",
       "      <td>62nd Annual GRAMMY Awards  (2019)</td>\n",
       "      <td>2020-05-19T05:10:28-07:00</td>\n",
       "      <td>2020-05-19T05:10:28-07:00</td>\n",
       "      <td>Record Of The Year</td>\n",
       "      <td>Talk</td>\n",
       "      <td>Khalid</td>\n",
       "      <td>Disclosure &amp; Denis Kosiak, producers; Ingmar C...</td>\n",
       "      <td>https://www.grammy.com/sites/com/files/styles/...</td>\n",
       "      <td>True</td>\n",
       "    </tr>\n",
       "  </tbody>\n",
       "</table>\n",
       "</div>"
      ],
      "text/plain": [
       "   year                              title               published_at  \\\n",
       "0  2019  62nd Annual GRAMMY Awards  (2019)  2020-05-19T05:10:28-07:00   \n",
       "1  2019  62nd Annual GRAMMY Awards  (2019)  2020-05-19T05:10:28-07:00   \n",
       "2  2019  62nd Annual GRAMMY Awards  (2019)  2020-05-19T05:10:28-07:00   \n",
       "3  2019  62nd Annual GRAMMY Awards  (2019)  2020-05-19T05:10:28-07:00   \n",
       "4  2019  62nd Annual GRAMMY Awards  (2019)  2020-05-19T05:10:28-07:00   \n",
       "\n",
       "                  updated_at            category     nominee         artist  \\\n",
       "0  2020-05-19T05:10:28-07:00  Record Of The Year     Bad Guy  Billie Eilish   \n",
       "1  2020-05-19T05:10:28-07:00  Record Of The Year     Hey, Ma       Bon Iver   \n",
       "2  2020-05-19T05:10:28-07:00  Record Of The Year     7 rings  Ariana Grande   \n",
       "3  2020-05-19T05:10:28-07:00  Record Of The Year  Hard Place         H.E.R.   \n",
       "4  2020-05-19T05:10:28-07:00  Record Of The Year        Talk         Khalid   \n",
       "\n",
       "                                             workers  \\\n",
       "0  Finneas O'Connell, producer; Rob Kinelski & Fi...   \n",
       "1  BJ Burton, Brad Cook, Chris Messina & Justin V...   \n",
       "2  Charles Anderson, Tommy Brown, Michael Foster ...   \n",
       "3  Rodney “Darkchild” Jerkins, producer; Joseph H...   \n",
       "4  Disclosure & Denis Kosiak, producers; Ingmar C...   \n",
       "\n",
       "                                                 img  winner  \n",
       "0  https://www.grammy.com/sites/com/files/styles/...    True  \n",
       "1  https://www.grammy.com/sites/com/files/styles/...    True  \n",
       "2  https://www.grammy.com/sites/com/files/styles/...    True  \n",
       "3  https://www.grammy.com/sites/com/files/styles/...    True  \n",
       "4  https://www.grammy.com/sites/com/files/styles/...    True  "
      ]
     },
     "execution_count": 5,
     "metadata": {},
     "output_type": "execute_result"
    }
   ],
   "source": [
    "grammys.head()"
   ]
  },
  {
   "cell_type": "code",
   "execution_count": 5,
   "metadata": {},
   "outputs": [
    {
     "data": {
      "text/plain": [
       "(4810, 10)"
      ]
     },
     "execution_count": 5,
     "metadata": {},
     "output_type": "execute_result"
    }
   ],
   "source": [
    "grammys.shape"
   ]
  },
  {
   "cell_type": "markdown",
   "metadata": {},
   "source": [
    "In the following chart, we will count the types of data we have in our dataset:"
   ]
  },
  {
   "cell_type": "code",
   "execution_count": 17,
   "metadata": {},
   "outputs": [
    {
     "data": {
      "image/png": "[encoded data removed]",
      "text/plain": [
       "<Figure size 500x500 with 1 Axes>"
      ]
     },
     "metadata": {},
     "output_type": "display_data"
    }
   ],
   "source": [
    "data_types_counts = grammys.dtypes.value_counts()\n",
    "\n",
    "colors = ['skyblue', 'salmon', 'green']\n",
    "\n",
    "plt.figure(figsize=(5, 5))\n",
    "bar_plot = data_types_counts.plot(kind='bar', color=colors)\n",
    "\n",
    "plt.xlabel('Data type')\n",
    "plt.ylabel('Quantity')\n",
    "plt.title('Counting of data types in the data set')\n",
    "\n",
    "for i, value in enumerate(data_types_counts):\n",
    "    plt.text(i, value + 0, str(value), ha='center', va='bottom')\n",
    "\n",
    "plt.tight_layout()\n",
    "plt.show()"
   ]
  },
  {
   "cell_type": "code",
   "execution_count": 8,
   "metadata": {},
   "outputs": [
    {
     "name": "stdout",
     "output_type": "stream",
     "text": [
      "<class 'pandas.core.frame.DataFrame'>\n",
      "RangeIndex: 4810 entries, 0 to 4809\n",
      "Data columns (total 10 columns):\n",
      " #   Column        Non-Null Count  Dtype \n",
      "---  ------        --------------  ----- \n",
      " 0   year          4810 non-null   int64 \n",
      " 1   title         4810 non-null   object\n",
      " 2   published_at  4810 non-null   object\n",
      " 3   updated_at    4810 non-null   object\n",
      " 4   category      4810 non-null   object\n",
      " 5   nominee       4804 non-null   object\n",
      " 6   artist        2970 non-null   object\n",
      " 7   workers       2620 non-null   object\n",
      " 8   img           3443 non-null   object\n",
      " 9   winner        4810 non-null   bool  \n",
      "dtypes: bool(1), int64(1), object(8)\n",
      "memory usage: 343.0+ KB\n"
     ]
    }
   ],
   "source": [
    "grammys.info()"
   ]
  },
  {
   "cell_type": "markdown",
   "metadata": {},
   "source": [
    "In the following chart, we can see in detail which columns contain null values:"
   ]
  },
  {
   "cell_type": "code",
   "execution_count": 6,
   "metadata": {},
   "outputs": [
    {
     "data": {
      "image/png": "[encoded data removed]",
      "text/plain": [
       "<Figure size 1200x600 with 1 Axes>"
      ]
     },
     "metadata": {},
     "output_type": "display_data"
    }
   ],
   "source": [
    "null_counts = grammys.isnull().sum()\n",
    "\n",
    "plt.figure(figsize=(12, 6))\n",
    "null_counts.plot(kind='barh', color='#95c99c')\n",
    "\n",
    "plt.title('Count of Null Values in Each Column')\n",
    "plt.xlabel('Count of Null Values')\n",
    "plt.ylabel('Columns')\n",
    "\n",
    "for i, value in enumerate(null_counts):\n",
    "    plt.text(value, i, str(value), ha='left', va='center')\n",
    "\n",
    "plt.tight_layout()\n",
    "plt.show()"
   ]
  },
  {
   "cell_type": "markdown",
   "metadata": {},
   "source": [
    "As we can see, the columns \"img\", \"workers\", \"artist\" and \"nominee\" have null values in the dataset.\n",
    "Being \"workers\" the column with more null data (2190), followed by \"artist\" with 1840, \"img\" with 1367 and finally \"nominee\" with 6, which last result is important because the transformation will not be so big."
   ]
  },
  {
   "cell_type": "markdown",
   "metadata": {},
   "source": [
    "Let us calculate the null values percentage of some of our candidates to be eliminated or transformated, taking into account our diagram."
   ]
  },
  {
   "cell_type": "code",
   "execution_count": 14,
   "metadata": {},
   "outputs": [
    {
     "name": "stdout",
     "output_type": "stream",
     "text": [
      "The percentage of null values in the 'img' column is: 28.42%\n"
     ]
    }
   ],
   "source": [
    "null_percentageI = (grammys['img'].isnull().sum() / len(grammys)) * 100\n",
    "print(f\"The percentage of null values in the 'img' column is: {null_percentageI:.2f}%\")"
   ]
  },
  {
   "cell_type": "code",
   "execution_count": 15,
   "metadata": {},
   "outputs": [
    {
     "name": "stdout",
     "output_type": "stream",
     "text": [
      "The percentage of null values in the 'workers' column is: 45.53%\n"
     ]
    }
   ],
   "source": [
    "null_percentageW = (grammys['workers'].isnull().sum() / len(grammys)) * 100\n",
    "print(f\"The percentage of null values in the 'workers' column is: {null_percentageW:.2f}%\")"
   ]
  },
  {
   "cell_type": "code",
   "execution_count": 16,
   "metadata": {},
   "outputs": [
    {
     "name": "stdout",
     "output_type": "stream",
     "text": [
      "The percentage of null values in the 'artist' column is: 38.25%\n"
     ]
    }
   ],
   "source": [
    "null_percentageA = (grammys['artist'].isnull().sum() / len(grammys)) * 100\n",
    "print(f\"The percentage of null values in the 'artist' column is: {null_percentageA:.2f}%\")"
   ]
  },
  {
   "cell_type": "markdown",
   "metadata": {},
   "source": [
    "Number of Unique values per columns:"
   ]
  },
  {
   "cell_type": "code",
   "execution_count": 63,
   "metadata": {},
   "outputs": [
    {
     "data": {
      "image/png": "[encoded data removed]",
      "text/plain": [
       "<Figure size 1200x600 with 1 Axes>"
      ]
     },
     "metadata": {},
     "output_type": "display_data"
    }
   ],
   "source": [
    "unique_counts = grammys.nunique()\n",
    "\n",
    "\n",
    "colors = ['#95c99c']\n",
    "\n",
    "plt.figure(figsize=(12, 6)) \n",
    "bar_plot = unique_counts.plot(kind='barh', color=colors)\n",
    "\n",
    "plt.ylabel('Columns')\n",
    "plt.xlabel('Number of Unique Values')\n",
    "plt.title('Number of Unique Values per Column')\n",
    "\n",
    "\n",
    "for i, value in enumerate(unique_counts):\n",
    "    plt.text(value, i, str(value), ha='left', va='center')\n",
    "\n",
    "\n",
    "plt.tight_layout()\n",
    "plt.show()"
   ]
  },
  {
   "cell_type": "markdown",
   "metadata": {},
   "source": [
    "Looking at our diagram, we can see that there are values that are repeated in all columns."
   ]
  },
  {
   "cell_type": "markdown",
   "metadata": {},
   "source": [
    "##### Now, let's analyze some key columns to see what data we are working with and make decisions."
   ]
  },
  {
   "cell_type": "code",
   "execution_count": 6,
   "metadata": {},
   "outputs": [
    {
     "data": {
      "text/html": [
       "<div>\n",
       "<style scoped>\n",
       "    .dataframe tbody tr th:only-of-type {\n",
       "        vertical-align: middle;\n",
       "    }\n",
       "\n",
       "    .dataframe tbody tr th {\n",
       "        vertical-align: top;\n",
       "    }\n",
       "\n",
       "    .dataframe thead th {\n",
       "        text-align: right;\n",
       "    }\n",
       "</style>\n",
       "<table border=\"1\" class=\"dataframe\">\n",
       "  <thead>\n",
       "    <tr style=\"text-align: right;\">\n",
       "      <th></th>\n",
       "      <th>year</th>\n",
       "      <th>title</th>\n",
       "      <th>published_at</th>\n",
       "      <th>updated_at</th>\n",
       "      <th>category</th>\n",
       "      <th>nominee</th>\n",
       "      <th>artist</th>\n",
       "      <th>workers</th>\n",
       "      <th>img</th>\n",
       "      <th>winner</th>\n",
       "    </tr>\n",
       "  </thead>\n",
       "  <tbody>\n",
       "    <tr>\n",
       "      <th>0</th>\n",
       "      <td>2019</td>\n",
       "      <td>62nd Annual GRAMMY Awards  (2019)</td>\n",
       "      <td>2020-05-19T05:10:28-07:00</td>\n",
       "      <td>2020-05-19T05:10:28-07:00</td>\n",
       "      <td>Record Of The Year</td>\n",
       "      <td>Bad Guy</td>\n",
       "      <td>Billie Eilish</td>\n",
       "      <td>Finneas O'Connell, producer; Rob Kinelski &amp; Fi...</td>\n",
       "      <td>https://www.grammy.com/sites/com/files/styles/...</td>\n",
       "      <td>True</td>\n",
       "    </tr>\n",
       "    <tr>\n",
       "      <th>1</th>\n",
       "      <td>2019</td>\n",
       "      <td>62nd Annual GRAMMY Awards  (2019)</td>\n",
       "      <td>2020-05-19T05:10:28-07:00</td>\n",
       "      <td>2020-05-19T05:10:28-07:00</td>\n",
       "      <td>Record Of The Year</td>\n",
       "      <td>Hey, Ma</td>\n",
       "      <td>Bon Iver</td>\n",
       "      <td>BJ Burton, Brad Cook, Chris Messina &amp; Justin V...</td>\n",
       "      <td>https://www.grammy.com/sites/com/files/styles/...</td>\n",
       "      <td>True</td>\n",
       "    </tr>\n",
       "  </tbody>\n",
       "</table>\n",
       "</div>"
      ],
      "text/plain": [
       "   year                              title               published_at  \\\n",
       "0  2019  62nd Annual GRAMMY Awards  (2019)  2020-05-19T05:10:28-07:00   \n",
       "1  2019  62nd Annual GRAMMY Awards  (2019)  2020-05-19T05:10:28-07:00   \n",
       "\n",
       "                  updated_at            category  nominee         artist  \\\n",
       "0  2020-05-19T05:10:28-07:00  Record Of The Year  Bad Guy  Billie Eilish   \n",
       "1  2020-05-19T05:10:28-07:00  Record Of The Year  Hey, Ma       Bon Iver   \n",
       "\n",
       "                                             workers  \\\n",
       "0  Finneas O'Connell, producer; Rob Kinelski & Fi...   \n",
       "1  BJ Burton, Brad Cook, Chris Messina & Justin V...   \n",
       "\n",
       "                                                 img  winner  \n",
       "0  https://www.grammy.com/sites/com/files/styles/...    True  \n",
       "1  https://www.grammy.com/sites/com/files/styles/...    True  "
      ]
     },
     "execution_count": 6,
     "metadata": {},
     "output_type": "execute_result"
    }
   ],
   "source": [
    "grammys.head(2)"
   ]
  },
  {
   "cell_type": "markdown",
   "metadata": {},
   "source": [
    "##### Year Range:"
   ]
  },
  {
   "cell_type": "code",
   "execution_count": 7,
   "metadata": {},
   "outputs": [
    {
     "name": "stdout",
     "output_type": "stream",
     "text": [
      "Our years range from 1958 to 2019\n"
     ]
    }
   ],
   "source": [
    "min_year = grammys['year'].min()\n",
    "max_year= grammys['year'].max()\n",
    "print(f\"Our years range from {min_year} to {max_year}\")"
   ]
  },
  {
   "cell_type": "markdown",
   "metadata": {},
   "source": [
    "##### Grammys Title Analysis:"
   ]
  },
  {
   "cell_type": "code",
   "execution_count": 8,
   "metadata": {},
   "outputs": [
    {
     "data": {
      "text/plain": [
       "array(['62nd Annual GRAMMY Awards  (2019)',\n",
       "       '61st Annual GRAMMY Awards  (2018)',\n",
       "       '58th Annual GRAMMY Awards  (2015)',\n",
       "       '41st Annual GRAMMY Awards  (1998)',\n",
       "       '57th Annual GRAMMY Awards  (2014)',\n",
       "       '60th Annual GRAMMY Awards  (2017)',\n",
       "       '55th Annual GRAMMY Awards  (2012)',\n",
       "       '50th Annual GRAMMY Awards  (2007)',\n",
       "       '53rd Annual GRAMMY Awards  (2010)',\n",
       "       '59th Annual GRAMMY Awards  (2016)',\n",
       "       '49th Annual GRAMMY Awards  (2006)',\n",
       "       '48th Annual GRAMMY Awards  (2005)',\n",
       "       '37th Annual GRAMMY Awards  (1994)',\n",
       "       '56th Annual GRAMMY Awards  (2013)',\n",
       "       '31st Annual GRAMMY Awards  (1988)',\n",
       "       '54th Annual GRAMMY Awards  (2011)',\n",
       "       '28th Annual GRAMMY Awards  (1985)',\n",
       "       '52nd Annual GRAMMY Awards  (2009)',\n",
       "       '51st Annual GRAMMY Awards  (2008)',\n",
       "       '47th Annual GRAMMY Awards  (2004)',\n",
       "       '26th Annual GRAMMY Awards  (1983)',\n",
       "       '25th Annual GRAMMY Awards  (1982)',\n",
       "       '20th Annual GRAMMY Awards  (1977)',\n",
       "       '24th Annual GRAMMY Awards  (1981)',\n",
       "       '46th Annual GRAMMY Awards  (2003)',\n",
       "       '45th Annual GRAMMY Awards  (2002)',\n",
       "       '44th Annual GRAMMY Awards  (2001)',\n",
       "       '43rd Annual GRAMMY Awards  (2000)',\n",
       "       '42nd Annual GRAMMY Awards  (1999)',\n",
       "       '39th Annual GRAMMY Awards  (1996)',\n",
       "       '40th Annual GRAMMY Awards  (1997)',\n",
       "       '12th Annual GRAMMY Awards  (1969)',\n",
       "       '38th Annual GRAMMY Awards  (1995)',\n",
       "       '19th Annual GRAMMY Awards  (1976)',\n",
       "       '36th Annual GRAMMY Awards  (1993)',\n",
       "       '17th Annual GRAMMY Awards  (1974)',\n",
       "       '34th Annual GRAMMY Awards  (1991)',\n",
       "       '35th Annual GRAMMY Awards  (1992)',\n",
       "       '33rd Annual GRAMMY Awards  (1990)',\n",
       "       '32nd Annual GRAMMY Awards  (1989)',\n",
       "       '30th Annual GRAMMY Awards  (1987)',\n",
       "       '29th Annual GRAMMY Awards  (1986)',\n",
       "       '23rd Annual GRAMMY Awards  (1980)',\n",
       "       '22nd Annual GRAMMY Awards  (1979)',\n",
       "       '27th Annual GRAMMY Awards  (1984)',\n",
       "       '15th Annual GRAMMY Awards  (1972)',\n",
       "       '21st Annual GRAMMY Awards  (1978)',\n",
       "       '18th Annual GRAMMY Awards  (1975)',\n",
       "       '13th Annual GRAMMY Awards  (1970)',\n",
       "       '16th Annual GRAMMY Awards  (1973)',\n",
       "       '7th Annual GRAMMY Awards  (1964)',\n",
       "       '3rd Annual GRAMMY Awards  (1960)',\n",
       "       '14th Annual GRAMMY Awards  (1971)',\n",
       "       '11th Annual GRAMMY Awards  (1968)',\n",
       "       '10th Annual GRAMMY Awards  (1967)',\n",
       "       '9th Annual GRAMMY Awards  (1966)',\n",
       "       '8th Annual GRAMMY Awards  (1965)',\n",
       "       '6th Annual GRAMMY Awards  (1963)',\n",
       "       '5th Annual GRAMMY Awards  (1962)',\n",
       "       '4th Annual GRAMMY Awards  (1961)',\n",
       "       '2nd Annual GRAMMY Awards  (1959)',\n",
       "       '1st Annual GRAMMY Awards  (1958)'], dtype=object)"
      ]
     },
     "execution_count": 8,
     "metadata": {},
     "output_type": "execute_result"
    }
   ],
   "source": [
    "unique_titles = grammys['title'].unique()\n",
    "unique_titles"
   ]
  },
  {
   "cell_type": "markdown",
   "metadata": {},
   "source": [
    "WIth the following,we can check that they are somewhat disordered and following the sequence, I cannot see the 3 title with year; for that case I took as an example \"3rd Annual GRAMMY Awards(1960)\" wich evaluating the logic of the results, was held in 1960."
   ]
  },
  {
   "cell_type": "code",
   "execution_count": 6,
   "metadata": {},
   "outputs": [
    {
     "name": "stdout",
     "output_type": "stream",
     "text": [
      "4178    3rd Annual GRAMMY Awards  (1960)\n",
      "4674    3rd Annual GRAMMY Awards  (1960)\n",
      "4710    3rd Annual GRAMMY Awards  (1960)\n",
      "4711    3rd Annual GRAMMY Awards  (1960)\n",
      "4712    3rd Annual GRAMMY Awards  (1960)\n",
      "4713    3rd Annual GRAMMY Awards  (1960)\n",
      "4714    3rd Annual GRAMMY Awards  (1960)\n",
      "4715    3rd Annual GRAMMY Awards  (1960)\n",
      "4716    3rd Annual GRAMMY Awards  (1960)\n",
      "4717    3rd Annual GRAMMY Awards  (1960)\n",
      "4718    3rd Annual GRAMMY Awards  (1960)\n",
      "4719    3rd Annual GRAMMY Awards  (1960)\n",
      "4720    3rd Annual GRAMMY Awards  (1960)\n",
      "4721    3rd Annual GRAMMY Awards  (1960)\n",
      "4722    3rd Annual GRAMMY Awards  (1960)\n",
      "4723    3rd Annual GRAMMY Awards  (1960)\n",
      "4724    3rd Annual GRAMMY Awards  (1960)\n",
      "4725    3rd Annual GRAMMY Awards  (1960)\n",
      "4726    3rd Annual GRAMMY Awards  (1960)\n",
      "4727    3rd Annual GRAMMY Awards  (1960)\n",
      "4728    3rd Annual GRAMMY Awards  (1960)\n",
      "4729    3rd Annual GRAMMY Awards  (1960)\n",
      "4730    3rd Annual GRAMMY Awards  (1960)\n",
      "4731    3rd Annual GRAMMY Awards  (1960)\n",
      "4732    3rd Annual GRAMMY Awards  (1960)\n",
      "4733    3rd Annual GRAMMY Awards  (1960)\n",
      "4734    3rd Annual GRAMMY Awards  (1960)\n",
      "4735    3rd Annual GRAMMY Awards  (1960)\n",
      "4736    3rd Annual GRAMMY Awards  (1960)\n",
      "4737    3rd Annual GRAMMY Awards  (1960)\n",
      "4738    3rd Annual GRAMMY Awards  (1960)\n",
      "4739    3rd Annual GRAMMY Awards  (1960)\n",
      "4740    3rd Annual GRAMMY Awards  (1960)\n",
      "4741    3rd Annual GRAMMY Awards  (1960)\n",
      "4742    3rd Annual GRAMMY Awards  (1960)\n",
      "4743    3rd Annual GRAMMY Awards  (1960)\n",
      "4744    3rd Annual GRAMMY Awards  (1960)\n",
      "4745    3rd Annual GRAMMY Awards  (1960)\n",
      "4746    3rd Annual GRAMMY Awards  (1960)\n",
      "Name: title, dtype: object\n"
     ]
    }
   ],
   "source": [
    "unique_value = grammys.loc[grammys['title'] == '3rd Annual GRAMMY Awards  (1960)', 'title']\n",
    "print(unique_value)"
   ]
  },
  {
   "cell_type": "markdown",
   "metadata": {},
   "source": [
    "With these results, we can see which titles we have with their respective date; in addition, we can see that we have repeated titles, as we could see in our \"unique values per column\" chart. The advantage is that we have no null values."
   ]
  },
  {
   "cell_type": "markdown",
   "metadata": {},
   "source": [
    "Taking into account the analysis of the columns \"year\" and \"title\", I wanted to make this diagram to know which are the 10 titles with the most nominees:"
   ]
  },
  {
   "cell_type": "code",
   "execution_count": 9,
   "metadata": {},
   "outputs": [
    {
     "data": {
      "image/png": "[encoded data removed]",
      "text/plain": [
       "<Figure size 1000x600 with 1 Axes>"
      ]
     },
     "metadata": {},
     "output_type": "display_data"
    }
   ],
   "source": [
    "nominees_per_title = grammys['title'].value_counts()\n",
    "top_10_titles = nominees_per_title.head(10)\n",
    "\n",
    "\n",
    "plt.figure(figsize=(10, 6))\n",
    "bars = top_10_titles.sort_values(ascending=True).plot(kind='barh', color='#95c99c')\n",
    "\n",
    "\n",
    "for i, v in enumerate(top_10_titles.sort_values(ascending=True)):\n",
    "    plt.text(v, i, str(v), ha='left', va='center', color='black')\n",
    "\n",
    "plt.xlabel('Number of Nominees')\n",
    "plt.ylabel('Title')\n",
    "plt.title('Top 10 Titles with the Most Nominees')\n",
    "plt.tight_layout()\n",
    "plt.show()"
   ]
  },
  {
   "cell_type": "markdown",
   "metadata": {},
   "source": [
    "Looking at our results, we can see that 2019 is the year with the highest number of nominees. This could have been due to the fact that by that time more talented singers came to light, released good songs and were nominated for this type of awards."
   ]
  },
  {
   "cell_type": "markdown",
   "metadata": {},
   "source": [
    "##### Checking \"published_at\" and \"updated_at\" (MIN and MAX dates):"
   ]
  },
  {
   "cell_type": "code",
   "execution_count": 85,
   "metadata": {},
   "outputs": [
    {
     "name": "stdout",
     "output_type": "stream",
     "text": [
      "The minimum published date in our records is 2017-11-28T00:03:45-08:00 and the maximum is 2020-05-19T05:10:28-07:00\n"
     ]
    }
   ],
   "source": [
    "min_publised = df['published_at'].min()\n",
    "max_published= df['published_at'].max()\n",
    "\n",
    "print(f\"The minimum published date in our records is {min_publised} and the maximum is {max_published}\")"
   ]
  },
  {
   "cell_type": "code",
   "execution_count": 91,
   "metadata": {},
   "outputs": [
    {
     "name": "stdout",
     "output_type": "stream",
     "text": [
      "['2020-05-19T05:10:28-07:00' '2018-12-06T23:48:49-08:00'\n",
      " '2017-11-28T00:03:45-08:00' '2018-05-22T03:08:24-07:00']\n"
     ]
    }
   ],
   "source": [
    "print(grammys[\"published_at\"].unique())"
   ]
  },
  {
   "cell_type": "code",
   "execution_count": 87,
   "metadata": {},
   "outputs": [
    {
     "name": "stdout",
     "output_type": "stream",
     "text": [
      "The minimun updated date in our records is 2017-11-28T00:03:45-08:00 and the maximum is 2020-09-01T12:16:40-07:00\n"
     ]
    }
   ],
   "source": [
    "min_updated = df['updated_at'].min()\n",
    "max_updated= df['updated_at'].max()\n",
    "\n",
    "print(f\"The minimun updated date in our records is {min_updated} and the maximum is {max_updated}\")"
   ]
  },
  {
   "cell_type": "code",
   "execution_count": 92,
   "metadata": {},
   "outputs": [
    {
     "name": "stdout",
     "output_type": "stream",
     "text": [
      "['2020-05-19T05:10:28-07:00' '2019-09-10T01:06:11-07:00'\n",
      " '2019-09-10T01:09:02-07:00' '2019-09-10T01:08:19-07:00'\n",
      " '2020-09-01T12:16:40-07:00' '2019-09-10T01:06:59-07:00'\n",
      " '2019-09-10T01:11:09-07:00' '2017-11-28T00:03:45-08:00'\n",
      " '2019-09-10T01:07:37-07:00' '2019-09-10T01:11:48-07:00']\n"
     ]
    }
   ],
   "source": [
    "print(grammys[\"updated_at\"].unique())"
   ]
  },
  {
   "cell_type": "markdown",
   "metadata": {},
   "source": [
    "with these results, we can see that the minimum dates for \"published\" and \"updated\" are the same, and they change in their maximum dates, being \"updated\" the one with the most recent maximum date. And, as you can see there are only 4 unique values for published_at and 10 for updated_at for the whole dataset. I think that I don't going to use this columns, so later on will be deleted from the table."
   ]
  },
  {
   "cell_type": "markdown",
   "metadata": {},
   "source": [
    "##### \"Category\" Column Analysis"
   ]
  },
  {
   "cell_type": "code",
   "execution_count": 46,
   "metadata": {},
   "outputs": [
    {
     "data": {
      "image/png": "[encoded data removed]",
      "text/plain": [
       "<Figure size 1000x800 with 1 Axes>"
      ]
     },
     "metadata": {},
     "output_type": "display_data"
    }
   ],
   "source": [
    "unique_categories = grammys['category'].value_counts().head(20)\n",
    "\n",
    "plt.figure(figsize=(10, 8))\n",
    "unique_categories.plot(kind='bar', color='#95c99c') \n",
    "plt.title('Top 20 categories with the most nominees')\n",
    "plt.xlabel('Category')\n",
    "plt.ylabel('Count')\n",
    "plt.xticks(rotation=45, ha='right')\n",
    "plt.tight_layout()\n",
    "\n",
    "for i, v in enumerate(unique_categories):\n",
    "    plt.text(i, v + 0.2, str(v), ha='center', va='bottom')\n",
    "\n",
    "plt.show()\n"
   ]
  },
  {
   "cell_type": "markdown",
   "metadata": {},
   "source": [
    "In this analysis, we observed some of the categories for which the artists are nominated, noting that the \"Song Of The Year\" category has the highest number of values. Additionally, it is advantageous to note that the \"Category\" column has no null values, indicating the absence of missing data in that column. This suggests that the dataset is fairly complete in terms of information regarding the nomination categories of the artists."
   ]
  },
  {
   "cell_type": "markdown",
   "metadata": {},
   "source": [
    "##### Now, let's see if we have duplicate rows about the nominees, so we can see what we can do."
   ]
  },
  {
   "cell_type": "code",
   "execution_count": 89,
   "metadata": {},
   "outputs": [
    {
     "name": "stdout",
     "output_type": "stream",
     "text": [
      "Duplicated rows:\n",
      "Empty DataFrame\n",
      "Columns: [year, title, published_at, updated_at, category, nominee, artist, workers, img, winner]\n",
      "Index: []\n"
     ]
    }
   ],
   "source": [
    "duplicates = grammys[grammys.duplicated(subset=['title', 'nominee', 'category'], keep=False)]\n",
    "\n",
    "print(\"Duplicated rows:\")\n",
    "print(duplicates)"
   ]
  },
  {
   "cell_type": "markdown",
   "metadata": {},
   "source": [
    "As we can see, we don't have duplicated rows. It's is something significant, because we do not need a transformation to do in this case."
   ]
  },
  {
   "cell_type": "markdown",
   "metadata": {},
   "source": [
    "##### \"Winner\" Column Analysis:"
   ]
  },
  {
   "cell_type": "code",
   "execution_count": 90,
   "metadata": {},
   "outputs": [
    {
     "data": {
      "image/png": "[encoded data removed]",
      "text/plain": [
       "<Figure size 600x600 with 1 Axes>"
      ]
     },
     "metadata": {},
     "output_type": "display_data"
    }
   ],
   "source": [
    "winner_counts = grammys['winner'].value_counts()\n",
    "plt.figure(figsize=(6, 6))\n",
    "plt.pie(winner_counts, labels=winner_counts.index, autopct='%1.1f%%', startangle=140)\n",
    "plt.title('Winner or not')\n",
    "plt.axis('equal')  \n",
    "plt.show()"
   ]
  },
  {
   "cell_type": "markdown",
   "metadata": {},
   "source": [
    "We have these results, and this is somewhat rare, because it isn't normal for all nominees to be winners.\n",
    "One thing we can do is to consider all the \"winners\" not as winners, but as \"nominees\". Also we can conclude that this column is not really showing us if a singer-group was really a winner or not. The transformation we could do here is to change the column name to \"nominated\" or otherwise, eliminate it as it is not contributing as something meaningful in my analysis."
   ]
  },
  {
   "cell_type": "markdown",
   "metadata": {},
   "source": [
    "### Transformations"
   ]
  },
  {
   "cell_type": "markdown",
   "metadata": {},
   "source": [
    "Taking into account our EDA, we can observe some transformations to do in our Dataset.\n"
   ]
  },
  {
   "cell_type": "markdown",
   "metadata": {},
   "source": [
    "##### - Handle the Null values:\n",
    "As we can see in our null value chart, we have 4 columns with null values, these are \"img\", \"workers\", \"artist\" and \"nominee\"."
   ]
  },
  {
   "cell_type": "markdown",
   "metadata": {},
   "source": [
    "1. In the case of \"img\" I think that it isn't a column to be used in our analysis, so I will goint to drop it.\n",
    "Also with the \"published_at\" and \"updated_at\" columns, as I had mentioned in the EDA, since in the end I will not use them in my analysis and looking at the unique values, one counts with 10, and the other with 4, something really not meaningful to use."
   ]
  },
  {
   "cell_type": "code",
   "execution_count": 6,
   "metadata": {},
   "outputs": [
    {
     "data": {
      "text/html": [
       "<div>\n",
       "<style scoped>\n",
       "    .dataframe tbody tr th:only-of-type {\n",
       "        vertical-align: middle;\n",
       "    }\n",
       "\n",
       "    .dataframe tbody tr th {\n",
       "        vertical-align: top;\n",
       "    }\n",
       "\n",
       "    .dataframe thead th {\n",
       "        text-align: right;\n",
       "    }\n",
       "</style>\n",
       "<table border=\"1\" class=\"dataframe\">\n",
       "  <thead>\n",
       "    <tr style=\"text-align: right;\">\n",
       "      <th></th>\n",
       "      <th>year</th>\n",
       "      <th>title</th>\n",
       "      <th>category</th>\n",
       "      <th>nominee</th>\n",
       "      <th>artist</th>\n",
       "      <th>workers</th>\n",
       "      <th>winner</th>\n",
       "    </tr>\n",
       "  </thead>\n",
       "  <tbody>\n",
       "    <tr>\n",
       "      <th>0</th>\n",
       "      <td>2019</td>\n",
       "      <td>62nd Annual GRAMMY Awards  (2019)</td>\n",
       "      <td>Record Of The Year</td>\n",
       "      <td>Bad Guy</td>\n",
       "      <td>Billie Eilish</td>\n",
       "      <td>Finneas O'Connell, producer; Rob Kinelski &amp; Fi...</td>\n",
       "      <td>True</td>\n",
       "    </tr>\n",
       "    <tr>\n",
       "      <th>1</th>\n",
       "      <td>2019</td>\n",
       "      <td>62nd Annual GRAMMY Awards  (2019)</td>\n",
       "      <td>Record Of The Year</td>\n",
       "      <td>Hey, Ma</td>\n",
       "      <td>Bon Iver</td>\n",
       "      <td>BJ Burton, Brad Cook, Chris Messina &amp; Justin V...</td>\n",
       "      <td>True</td>\n",
       "    </tr>\n",
       "    <tr>\n",
       "      <th>2</th>\n",
       "      <td>2019</td>\n",
       "      <td>62nd Annual GRAMMY Awards  (2019)</td>\n",
       "      <td>Record Of The Year</td>\n",
       "      <td>7 rings</td>\n",
       "      <td>Ariana Grande</td>\n",
       "      <td>Charles Anderson, Tommy Brown, Michael Foster ...</td>\n",
       "      <td>True</td>\n",
       "    </tr>\n",
       "    <tr>\n",
       "      <th>3</th>\n",
       "      <td>2019</td>\n",
       "      <td>62nd Annual GRAMMY Awards  (2019)</td>\n",
       "      <td>Record Of The Year</td>\n",
       "      <td>Hard Place</td>\n",
       "      <td>H.E.R.</td>\n",
       "      <td>Rodney “Darkchild” Jerkins, producer; Joseph H...</td>\n",
       "      <td>True</td>\n",
       "    </tr>\n",
       "    <tr>\n",
       "      <th>4</th>\n",
       "      <td>2019</td>\n",
       "      <td>62nd Annual GRAMMY Awards  (2019)</td>\n",
       "      <td>Record Of The Year</td>\n",
       "      <td>Talk</td>\n",
       "      <td>Khalid</td>\n",
       "      <td>Disclosure &amp; Denis Kosiak, producers; Ingmar C...</td>\n",
       "      <td>True</td>\n",
       "    </tr>\n",
       "  </tbody>\n",
       "</table>\n",
       "</div>"
      ],
      "text/plain": [
       "   year                              title            category     nominee  \\\n",
       "0  2019  62nd Annual GRAMMY Awards  (2019)  Record Of The Year     Bad Guy   \n",
       "1  2019  62nd Annual GRAMMY Awards  (2019)  Record Of The Year     Hey, Ma   \n",
       "2  2019  62nd Annual GRAMMY Awards  (2019)  Record Of The Year     7 rings   \n",
       "3  2019  62nd Annual GRAMMY Awards  (2019)  Record Of The Year  Hard Place   \n",
       "4  2019  62nd Annual GRAMMY Awards  (2019)  Record Of The Year        Talk   \n",
       "\n",
       "          artist                                            workers  winner  \n",
       "0  Billie Eilish  Finneas O'Connell, producer; Rob Kinelski & Fi...    True  \n",
       "1       Bon Iver  BJ Burton, Brad Cook, Chris Messina & Justin V...    True  \n",
       "2  Ariana Grande  Charles Anderson, Tommy Brown, Michael Foster ...    True  \n",
       "3         H.E.R.  Rodney “Darkchild” Jerkins, producer; Joseph H...    True  \n",
       "4         Khalid  Disclosure & Denis Kosiak, producers; Ingmar C...    True  "
      ]
     },
     "execution_count": 6,
     "metadata": {},
     "output_type": "execute_result"
    }
   ],
   "source": [
    "grammys = grammys.drop(['img', 'published_at', 'updated_at'], axis=1)\n",
    "grammys.head()"
   ]
  },
  {
   "cell_type": "markdown",
   "metadata": {},
   "source": [
    "Now, let's look at the null values we have in \"artist\" to see what we can do with them. One idea could be to put the first name of one of the workers and see how it works. We will filter only the rows where the column 'artist' is null (NaN) and the column 'workers' is not null."
   ]
  },
  {
   "cell_type": "code",
   "execution_count": 7,
   "metadata": {},
   "outputs": [
    {
     "name": "stdout",
     "output_type": "stream",
     "text": [
      "+--------+--------------------------------------------------------------------------------------------------+\n",
      "| Artist | Workers                                                                                          |\n",
      "+--------+--------------------------------------------------------------------------------------------------+\n",
      "|  None  | Billie Eilish O'Connell & Finneas O'Connell, songwriters (Billie Eilish)                         |\n",
      "|  None  | Natalie Hemby, Lady Gaga, Hillary Lindsey & Lori McKenna, songwriters (Lady Gaga)                |\n",
      "|  None  | Brandi Carlile, Phil Hanseroth, Tim Hanseroth & Tanya Tucker, songwriters (Tanya Tucker)         |\n",
      "|  None  | Ruby Amanfu, Sam Ashworth, D. Arcelious Harris, H.E.R. & Rodney Jerkins, songwriters (H.E.R.)    |\n",
      "|  None  | Taylor Swift, songwriter (Taylor Swift)                                                          |\n",
      "|  None  | Jack Antonoff & Lana Del Rey, songwriters (Lana Del Rey)                                         |\n",
      "|  None  | Tom Barnes, Lewis Capaldi, Pete Kelleher, Benjamin Kohn & Sam Roman, songwriters (Lewis Capaldi) |\n",
      "|  None  | Steven Cheung, Eric Frederic, Melissa Jefferson & Jesse Saint John, songwriters (Lizzo)          |\n",
      "|  None  | Gary Clark Jr., songwriter (Gary Clark Jr.)                                                      |\n",
      "|  None  | Danny Carey, Justin Chancellor, Adam Jones & Maynard James Keenan, songwriters (Tool)            |\n",
      "+--------+--------------------------------------------------------------------------------------------------+\n",
      "Amount of rows: 1654\n"
     ]
    }
   ],
   "source": [
    "filtered_df = grammys[(grammys['artist'].isnull()) & (~grammys['workers'].isnull())]\n",
    "\n",
    "count = len(filtered_df)\n",
    "\n",
    "selected_columns = filtered_df[['artist', 'workers']]\n",
    "selected_columns_head = selected_columns.head(10)\n",
    "\n",
    "pt= PrettyTable()\n",
    "\n",
    "pt.field_names = ['Artist', 'Workers']\n",
    "\n",
    "pt.align['Workers'] = 'l'\n",
    "\n",
    "for index, row in selected_columns_head.iterrows():\n",
    "    pt.add_row([row['artist'], row['workers']])\n",
    "\n",
    "\n",
    "print(pt)\n",
    "\n",
    "print(f\"Amount of rows: {count}\")"
   ]
  },
  {
   "cell_type": "markdown",
   "metadata": {},
   "source": [
    "We had a surprise, and that is that the \"workers\" column contains the name of the artist in parentheses, so we will take that value out of the parentheses to fill in the null values:"
   ]
  },
  {
   "cell_type": "code",
   "execution_count": 8,
   "metadata": {},
   "outputs": [
    {
     "data": {
      "text/html": [
       "<div>\n",
       "<style scoped>\n",
       "    .dataframe tbody tr th:only-of-type {\n",
       "        vertical-align: middle;\n",
       "    }\n",
       "\n",
       "    .dataframe tbody tr th {\n",
       "        vertical-align: top;\n",
       "    }\n",
       "\n",
       "    .dataframe thead th {\n",
       "        text-align: right;\n",
       "    }\n",
       "</style>\n",
       "<table border=\"1\" class=\"dataframe\">\n",
       "  <thead>\n",
       "    <tr style=\"text-align: right;\">\n",
       "      <th></th>\n",
       "      <th>year</th>\n",
       "      <th>title</th>\n",
       "      <th>category</th>\n",
       "      <th>nominee</th>\n",
       "      <th>artist</th>\n",
       "      <th>workers</th>\n",
       "      <th>winner</th>\n",
       "    </tr>\n",
       "  </thead>\n",
       "  <tbody>\n",
       "    <tr>\n",
       "      <th>16</th>\n",
       "      <td>2019</td>\n",
       "      <td>62nd Annual GRAMMY Awards  (2019)</td>\n",
       "      <td>Song Of The Year</td>\n",
       "      <td>Bad Guy</td>\n",
       "      <td>None</td>\n",
       "      <td>Billie Eilish O'Connell &amp; Finneas O'Connell, s...</td>\n",
       "      <td>True</td>\n",
       "    </tr>\n",
       "    <tr>\n",
       "      <th>17</th>\n",
       "      <td>2019</td>\n",
       "      <td>62nd Annual GRAMMY Awards  (2019)</td>\n",
       "      <td>Song Of The Year</td>\n",
       "      <td>Always Remember Us This Way</td>\n",
       "      <td>None</td>\n",
       "      <td>Natalie Hemby, Lady Gaga, Hillary Lindsey &amp; Lo...</td>\n",
       "      <td>True</td>\n",
       "    </tr>\n",
       "    <tr>\n",
       "      <th>18</th>\n",
       "      <td>2019</td>\n",
       "      <td>62nd Annual GRAMMY Awards  (2019)</td>\n",
       "      <td>Song Of The Year</td>\n",
       "      <td>Bring My Flowers Now</td>\n",
       "      <td>None</td>\n",
       "      <td>Brandi Carlile, Phil Hanseroth, Tim Hanseroth ...</td>\n",
       "      <td>True</td>\n",
       "    </tr>\n",
       "    <tr>\n",
       "      <th>19</th>\n",
       "      <td>2019</td>\n",
       "      <td>62nd Annual GRAMMY Awards  (2019)</td>\n",
       "      <td>Song Of The Year</td>\n",
       "      <td>Hard Place</td>\n",
       "      <td>None</td>\n",
       "      <td>Ruby Amanfu, Sam Ashworth, D. Arcelious Harris...</td>\n",
       "      <td>True</td>\n",
       "    </tr>\n",
       "    <tr>\n",
       "      <th>20</th>\n",
       "      <td>2019</td>\n",
       "      <td>62nd Annual GRAMMY Awards  (2019)</td>\n",
       "      <td>Song Of The Year</td>\n",
       "      <td>Lover</td>\n",
       "      <td>None</td>\n",
       "      <td>Taylor Swift, songwriter (Taylor Swift)</td>\n",
       "      <td>True</td>\n",
       "    </tr>\n",
       "  </tbody>\n",
       "</table>\n",
       "</div>"
      ],
      "text/plain": [
       "    year                              title          category  \\\n",
       "16  2019  62nd Annual GRAMMY Awards  (2019)  Song Of The Year   \n",
       "17  2019  62nd Annual GRAMMY Awards  (2019)  Song Of The Year   \n",
       "18  2019  62nd Annual GRAMMY Awards  (2019)  Song Of The Year   \n",
       "19  2019  62nd Annual GRAMMY Awards  (2019)  Song Of The Year   \n",
       "20  2019  62nd Annual GRAMMY Awards  (2019)  Song Of The Year   \n",
       "\n",
       "                        nominee artist  \\\n",
       "16                      Bad Guy   None   \n",
       "17  Always Remember Us This Way   None   \n",
       "18         Bring My Flowers Now   None   \n",
       "19                   Hard Place   None   \n",
       "20                        Lover   None   \n",
       "\n",
       "                                              workers  winner  \n",
       "16  Billie Eilish O'Connell & Finneas O'Connell, s...    True  \n",
       "17  Natalie Hemby, Lady Gaga, Hillary Lindsey & Lo...    True  \n",
       "18  Brandi Carlile, Phil Hanseroth, Tim Hanseroth ...    True  \n",
       "19  Ruby Amanfu, Sam Ashworth, D. Arcelious Harris...    True  \n",
       "20            Taylor Swift, songwriter (Taylor Swift)    True  "
      ]
     },
     "execution_count": 8,
     "metadata": {},
     "output_type": "execute_result"
    }
   ],
   "source": [
    "grammys.loc[grammys['artist'].isnull() & grammys['workers'].str.contains(r'\\(.*\\)')][:5]"
   ]
  },
  {
   "cell_type": "markdown",
   "metadata": {},
   "source": [
    "2. Here, we were able to rectify our approach well, and see which ID's correspond to them to make the transformation, to extract the artist information in parenthesis and fill the nulls in the column 'artist':\n",
    "we will use the function \"re\" which stands for regular expressions; totally useful for this transformation. Now, let's make our transformation:"
   ]
  },
  {
   "cell_type": "code",
   "execution_count": 9,
   "metadata": {},
   "outputs": [],
   "source": [
    "import re \n",
    "\n",
    "RE = grammys['artist'].isnull() & grammys['workers'].str.contains(r'\\(.*\\)')\n",
    "grammys.loc[RE, 'artist'] = grammys.loc[RE, 'workers'].apply(lambda x: re.search(r'\\((.*?)\\)', x).group(1) if isinstance(x, str) and re.search(r'\\((.*?)\\)', x) else None)"
   ]
  },
  {
   "cell_type": "markdown",
   "metadata": {},
   "source": [
    "As we could see what number of rows those were, we will use the \"iloc\" function to select the rows from position 16 to position 20 which were some of the rows we filled."
   ]
  },
  {
   "cell_type": "code",
   "execution_count": 10,
   "metadata": {},
   "outputs": [
    {
     "data": {
      "text/html": [
       "<div>\n",
       "<style scoped>\n",
       "    .dataframe tbody tr th:only-of-type {\n",
       "        vertical-align: middle;\n",
       "    }\n",
       "\n",
       "    .dataframe tbody tr th {\n",
       "        vertical-align: top;\n",
       "    }\n",
       "\n",
       "    .dataframe thead th {\n",
       "        text-align: right;\n",
       "    }\n",
       "</style>\n",
       "<table border=\"1\" class=\"dataframe\">\n",
       "  <thead>\n",
       "    <tr style=\"text-align: right;\">\n",
       "      <th></th>\n",
       "      <th>year</th>\n",
       "      <th>title</th>\n",
       "      <th>category</th>\n",
       "      <th>nominee</th>\n",
       "      <th>artist</th>\n",
       "      <th>workers</th>\n",
       "      <th>winner</th>\n",
       "    </tr>\n",
       "  </thead>\n",
       "  <tbody>\n",
       "    <tr>\n",
       "      <th>16</th>\n",
       "      <td>2019</td>\n",
       "      <td>62nd Annual GRAMMY Awards  (2019)</td>\n",
       "      <td>Song Of The Year</td>\n",
       "      <td>Bad Guy</td>\n",
       "      <td>Billie Eilish</td>\n",
       "      <td>Billie Eilish O'Connell &amp; Finneas O'Connell, s...</td>\n",
       "      <td>True</td>\n",
       "    </tr>\n",
       "    <tr>\n",
       "      <th>17</th>\n",
       "      <td>2019</td>\n",
       "      <td>62nd Annual GRAMMY Awards  (2019)</td>\n",
       "      <td>Song Of The Year</td>\n",
       "      <td>Always Remember Us This Way</td>\n",
       "      <td>Lady Gaga</td>\n",
       "      <td>Natalie Hemby, Lady Gaga, Hillary Lindsey &amp; Lo...</td>\n",
       "      <td>True</td>\n",
       "    </tr>\n",
       "    <tr>\n",
       "      <th>18</th>\n",
       "      <td>2019</td>\n",
       "      <td>62nd Annual GRAMMY Awards  (2019)</td>\n",
       "      <td>Song Of The Year</td>\n",
       "      <td>Bring My Flowers Now</td>\n",
       "      <td>Tanya Tucker</td>\n",
       "      <td>Brandi Carlile, Phil Hanseroth, Tim Hanseroth ...</td>\n",
       "      <td>True</td>\n",
       "    </tr>\n",
       "    <tr>\n",
       "      <th>19</th>\n",
       "      <td>2019</td>\n",
       "      <td>62nd Annual GRAMMY Awards  (2019)</td>\n",
       "      <td>Song Of The Year</td>\n",
       "      <td>Hard Place</td>\n",
       "      <td>H.E.R.</td>\n",
       "      <td>Ruby Amanfu, Sam Ashworth, D. Arcelious Harris...</td>\n",
       "      <td>True</td>\n",
       "    </tr>\n",
       "    <tr>\n",
       "      <th>20</th>\n",
       "      <td>2019</td>\n",
       "      <td>62nd Annual GRAMMY Awards  (2019)</td>\n",
       "      <td>Song Of The Year</td>\n",
       "      <td>Lover</td>\n",
       "      <td>Taylor Swift</td>\n",
       "      <td>Taylor Swift, songwriter (Taylor Swift)</td>\n",
       "      <td>True</td>\n",
       "    </tr>\n",
       "  </tbody>\n",
       "</table>\n",
       "</div>"
      ],
      "text/plain": [
       "    year                              title          category  \\\n",
       "16  2019  62nd Annual GRAMMY Awards  (2019)  Song Of The Year   \n",
       "17  2019  62nd Annual GRAMMY Awards  (2019)  Song Of The Year   \n",
       "18  2019  62nd Annual GRAMMY Awards  (2019)  Song Of The Year   \n",
       "19  2019  62nd Annual GRAMMY Awards  (2019)  Song Of The Year   \n",
       "20  2019  62nd Annual GRAMMY Awards  (2019)  Song Of The Year   \n",
       "\n",
       "                        nominee         artist  \\\n",
       "16                      Bad Guy  Billie Eilish   \n",
       "17  Always Remember Us This Way      Lady Gaga   \n",
       "18         Bring My Flowers Now   Tanya Tucker   \n",
       "19                   Hard Place         H.E.R.   \n",
       "20                        Lover   Taylor Swift   \n",
       "\n",
       "                                              workers  winner  \n",
       "16  Billie Eilish O'Connell & Finneas O'Connell, s...    True  \n",
       "17  Natalie Hemby, Lady Gaga, Hillary Lindsey & Lo...    True  \n",
       "18  Brandi Carlile, Phil Hanseroth, Tim Hanseroth ...    True  \n",
       "19  Ruby Amanfu, Sam Ashworth, D. Arcelious Harris...    True  \n",
       "20            Taylor Swift, songwriter (Taylor Swift)    True  "
      ]
     },
     "execution_count": 10,
     "metadata": {},
     "output_type": "execute_result"
    }
   ],
   "source": [
    "grammys.iloc[16:21]"
   ]
  },
  {
   "cell_type": "markdown",
   "metadata": {},
   "source": [
    "Now, let's see how many nulls we have:"
   ]
  },
  {
   "cell_type": "code",
   "execution_count": 11,
   "metadata": {},
   "outputs": [
    {
     "data": {
      "text/plain": [
       "year           0\n",
       "title          0\n",
       "category       0\n",
       "nominee        6\n",
       "artist       474\n",
       "workers     2190\n",
       "winner         0\n",
       "dtype: int64"
      ]
     },
     "execution_count": 11,
     "metadata": {},
     "output_type": "execute_result"
    }
   ],
   "source": [
    "grammys.isna().sum()    "
   ]
  },
  {
   "cell_type": "markdown",
   "metadata": {},
   "source": [
    "We can see that we have fewer null values in our \"artist\" column; let's continue exploring to see what else we can do...\n",
    "\n",
    "For this, let's select the first 10 rows of the grammys_new DataFrame where the 'workers' column does not contain parentheses and the 'artist' column is empty."
   ]
  },
  {
   "cell_type": "code",
   "execution_count": 12,
   "metadata": {},
   "outputs": [
    {
     "data": {
      "text/html": [
       "<div>\n",
       "<style scoped>\n",
       "    .dataframe tbody tr th:only-of-type {\n",
       "        vertical-align: middle;\n",
       "    }\n",
       "\n",
       "    .dataframe tbody tr th {\n",
       "        vertical-align: top;\n",
       "    }\n",
       "\n",
       "    .dataframe thead th {\n",
       "        text-align: right;\n",
       "    }\n",
       "</style>\n",
       "<table border=\"1\" class=\"dataframe\">\n",
       "  <thead>\n",
       "    <tr style=\"text-align: right;\">\n",
       "      <th></th>\n",
       "      <th>year</th>\n",
       "      <th>title</th>\n",
       "      <th>category</th>\n",
       "      <th>nominee</th>\n",
       "      <th>artist</th>\n",
       "      <th>workers</th>\n",
       "      <th>winner</th>\n",
       "    </tr>\n",
       "  </thead>\n",
       "  <tbody>\n",
       "    <tr>\n",
       "      <th>31</th>\n",
       "      <td>2019</td>\n",
       "      <td>62nd Annual GRAMMY Awards  (2019)</td>\n",
       "      <td>Best New Artist</td>\n",
       "      <td>Yola</td>\n",
       "      <td>None</td>\n",
       "      <td>None</td>\n",
       "      <td>True</td>\n",
       "    </tr>\n",
       "    <tr>\n",
       "      <th>115</th>\n",
       "      <td>2018</td>\n",
       "      <td>61st Annual GRAMMY Awards  (2018)</td>\n",
       "      <td>Best New Artist</td>\n",
       "      <td>Dua Lipa</td>\n",
       "      <td>None</td>\n",
       "      <td>None</td>\n",
       "      <td>True</td>\n",
       "    </tr>\n",
       "    <tr>\n",
       "      <th>163</th>\n",
       "      <td>2015</td>\n",
       "      <td>58th Annual GRAMMY Awards  (2015)</td>\n",
       "      <td>Best Contemporary Classical Composition</td>\n",
       "      <td>Paulus: Prayers &amp; Remembrances</td>\n",
       "      <td>None</td>\n",
       "      <td>Stephen Paulus, composer</td>\n",
       "      <td>True</td>\n",
       "    </tr>\n",
       "    <tr>\n",
       "      <th>164</th>\n",
       "      <td>2019</td>\n",
       "      <td>62nd Annual GRAMMY Awards  (2019)</td>\n",
       "      <td>Best Improvised Jazz Solo</td>\n",
       "      <td>Sozinho</td>\n",
       "      <td>None</td>\n",
       "      <td>Randy Brecker, soloist</td>\n",
       "      <td>True</td>\n",
       "    </tr>\n",
       "    <tr>\n",
       "      <th>165</th>\n",
       "      <td>2019</td>\n",
       "      <td>62nd Annual GRAMMY Awards  (2019)</td>\n",
       "      <td>Best Improvised Jazz Solo</td>\n",
       "      <td>Elsewhere</td>\n",
       "      <td>None</td>\n",
       "      <td>Melissa Aldana, soloist</td>\n",
       "      <td>True</td>\n",
       "    </tr>\n",
       "    <tr>\n",
       "      <th>166</th>\n",
       "      <td>2019</td>\n",
       "      <td>62nd Annual GRAMMY Awards  (2019)</td>\n",
       "      <td>Best Improvised Jazz Solo</td>\n",
       "      <td>Tomorrow Is The Question</td>\n",
       "      <td>None</td>\n",
       "      <td>Julian Lage, soloist</td>\n",
       "      <td>True</td>\n",
       "    </tr>\n",
       "  </tbody>\n",
       "</table>\n",
       "</div>"
      ],
      "text/plain": [
       "     year                              title  \\\n",
       "31   2019  62nd Annual GRAMMY Awards  (2019)   \n",
       "115  2018  61st Annual GRAMMY Awards  (2018)   \n",
       "163  2015  58th Annual GRAMMY Awards  (2015)   \n",
       "164  2019  62nd Annual GRAMMY Awards  (2019)   \n",
       "165  2019  62nd Annual GRAMMY Awards  (2019)   \n",
       "166  2019  62nd Annual GRAMMY Awards  (2019)   \n",
       "\n",
       "                                    category                         nominee  \\\n",
       "31                           Best New Artist                            Yola   \n",
       "115                          Best New Artist                        Dua Lipa   \n",
       "163  Best Contemporary Classical Composition  Paulus: Prayers & Remembrances   \n",
       "164                Best Improvised Jazz Solo                         Sozinho   \n",
       "165                Best Improvised Jazz Solo                       Elsewhere   \n",
       "166                Best Improvised Jazz Solo        Tomorrow Is The Question   \n",
       "\n",
       "    artist                   workers  winner  \n",
       "31    None                      None    True  \n",
       "115   None                      None    True  \n",
       "163   None  Stephen Paulus, composer    True  \n",
       "164   None    Randy Brecker, soloist    True  \n",
       "165   None   Melissa Aldana, soloist    True  \n",
       "166   None      Julian Lage, soloist    True  "
      ]
     },
     "execution_count": 12,
     "metadata": {},
     "output_type": "execute_result"
    }
   ],
   "source": [
    "grammys.loc[~grammys['workers'].str.contains(r'\\(.*\\)', na= False) & grammys['artist'].isnull()][7:13]"
   ]
  },
  {
   "cell_type": "markdown",
   "metadata": {},
   "source": [
    "Let me point out two observations I've made. Firstly, in rows where both the 'artist' and 'workers' columns are null, the artist's name is often found in the 'nominee' column. Therefore, we could potentially fill in some of the null values in 'artist' with the information from 'nominee'. On the other hand, in the 'workers' column, when there are no parentheses, it typically contains the names of the artists (when there are multiple artists) separated by semicolons and their titles separated by commas (e.g., composer or soloist). Hence, the suggestion would be to extract the first name listed and consider them as the \"main\" artist.\n",
    "\n",
    "Let's see which rows comply with what I mentioned above:"
   ]
  },
  {
   "cell_type": "code",
   "execution_count": 15,
   "metadata": {},
   "outputs": [
    {
     "data": {
      "text/html": [
       "<div>\n",
       "<style scoped>\n",
       "    .dataframe tbody tr th:only-of-type {\n",
       "        vertical-align: middle;\n",
       "    }\n",
       "\n",
       "    .dataframe tbody tr th {\n",
       "        vertical-align: top;\n",
       "    }\n",
       "\n",
       "    .dataframe thead th {\n",
       "        text-align: right;\n",
       "    }\n",
       "</style>\n",
       "<table border=\"1\" class=\"dataframe\">\n",
       "  <thead>\n",
       "    <tr style=\"text-align: right;\">\n",
       "      <th></th>\n",
       "      <th>year</th>\n",
       "      <th>title</th>\n",
       "      <th>category</th>\n",
       "      <th>nominee</th>\n",
       "      <th>artist</th>\n",
       "      <th>workers</th>\n",
       "      <th>winner</th>\n",
       "    </tr>\n",
       "  </thead>\n",
       "  <tbody>\n",
       "    <tr>\n",
       "      <th>163</th>\n",
       "      <td>2015</td>\n",
       "      <td>58th Annual GRAMMY Awards  (2015)</td>\n",
       "      <td>Best Contemporary Classical Composition</td>\n",
       "      <td>Paulus: Prayers &amp; Remembrances</td>\n",
       "      <td>None</td>\n",
       "      <td>Stephen Paulus, composer</td>\n",
       "      <td>True</td>\n",
       "    </tr>\n",
       "    <tr>\n",
       "      <th>164</th>\n",
       "      <td>2019</td>\n",
       "      <td>62nd Annual GRAMMY Awards  (2019)</td>\n",
       "      <td>Best Improvised Jazz Solo</td>\n",
       "      <td>Sozinho</td>\n",
       "      <td>None</td>\n",
       "      <td>Randy Brecker, soloist</td>\n",
       "      <td>True</td>\n",
       "    </tr>\n",
       "    <tr>\n",
       "      <th>165</th>\n",
       "      <td>2019</td>\n",
       "      <td>62nd Annual GRAMMY Awards  (2019)</td>\n",
       "      <td>Best Improvised Jazz Solo</td>\n",
       "      <td>Elsewhere</td>\n",
       "      <td>None</td>\n",
       "      <td>Melissa Aldana, soloist</td>\n",
       "      <td>True</td>\n",
       "    </tr>\n",
       "    <tr>\n",
       "      <th>166</th>\n",
       "      <td>2019</td>\n",
       "      <td>62nd Annual GRAMMY Awards  (2019)</td>\n",
       "      <td>Best Improvised Jazz Solo</td>\n",
       "      <td>Tomorrow Is The Question</td>\n",
       "      <td>None</td>\n",
       "      <td>Julian Lage, soloist</td>\n",
       "      <td>True</td>\n",
       "    </tr>\n",
       "    <tr>\n",
       "      <th>167</th>\n",
       "      <td>2019</td>\n",
       "      <td>62nd Annual GRAMMY Awards  (2019)</td>\n",
       "      <td>Best Improvised Jazz Solo</td>\n",
       "      <td>The Windup</td>\n",
       "      <td>None</td>\n",
       "      <td>Branford Marsalis, soloist</td>\n",
       "      <td>True</td>\n",
       "    </tr>\n",
       "  </tbody>\n",
       "</table>\n",
       "</div>"
      ],
      "text/plain": [
       "     year                              title  \\\n",
       "163  2015  58th Annual GRAMMY Awards  (2015)   \n",
       "164  2019  62nd Annual GRAMMY Awards  (2019)   \n",
       "165  2019  62nd Annual GRAMMY Awards  (2019)   \n",
       "166  2019  62nd Annual GRAMMY Awards  (2019)   \n",
       "167  2019  62nd Annual GRAMMY Awards  (2019)   \n",
       "\n",
       "                                    category                         nominee  \\\n",
       "163  Best Contemporary Classical Composition  Paulus: Prayers & Remembrances   \n",
       "164                Best Improvised Jazz Solo                         Sozinho   \n",
       "165                Best Improvised Jazz Solo                       Elsewhere   \n",
       "166                Best Improvised Jazz Solo        Tomorrow Is The Question   \n",
       "167                Best Improvised Jazz Solo                      The Windup   \n",
       "\n",
       "    artist                     workers  winner  \n",
       "163   None    Stephen Paulus, composer    True  \n",
       "164   None      Randy Brecker, soloist    True  \n",
       "165   None     Melissa Aldana, soloist    True  \n",
       "166   None        Julian Lage, soloist    True  \n",
       "167   None  Branford Marsalis, soloist    True  "
      ]
     },
     "execution_count": 15,
     "metadata": {},
     "output_type": "execute_result"
    }
   ],
   "source": [
    "grammys.loc[ grammys['workers'].str.contains('[;,]', na=False) & ~grammys['workers'].str.contains(r'\\(.*\\)', na=False) & grammys['artist'].isnull()][:5]"
   ]
  },
  {
   "cell_type": "markdown",
   "metadata": {},
   "source": [
    "3. We populate the 'artist' field with details from the 'workers' column, extracting the first name before a ';' or a ',', under the assumption that this name consistently represents the primary artist."
   ]
  },
  {
   "cell_type": "code",
   "execution_count": 16,
   "metadata": {},
   "outputs": [],
   "source": [
    "workerCondition= grammys['workers'].str.contains('[;,]', na=False) & ~grammys['workers'].str.contains(r'\\(.*\\)', na=False) & grammys['artist'].isnull()\n",
    "\n",
    "grammys.loc[workerCondition, 'artist'] = grammys.loc[workerCondition, 'workers'].str.split('[;,]').str[0].str.strip()"
   ]
  },
  {
   "cell_type": "code",
   "execution_count": 17,
   "metadata": {},
   "outputs": [
    {
     "data": {
      "text/html": [
       "<div>\n",
       "<style scoped>\n",
       "    .dataframe tbody tr th:only-of-type {\n",
       "        vertical-align: middle;\n",
       "    }\n",
       "\n",
       "    .dataframe tbody tr th {\n",
       "        vertical-align: top;\n",
       "    }\n",
       "\n",
       "    .dataframe thead th {\n",
       "        text-align: right;\n",
       "    }\n",
       "</style>\n",
       "<table border=\"1\" class=\"dataframe\">\n",
       "  <thead>\n",
       "    <tr style=\"text-align: right;\">\n",
       "      <th></th>\n",
       "      <th>year</th>\n",
       "      <th>title</th>\n",
       "      <th>category</th>\n",
       "      <th>nominee</th>\n",
       "      <th>artist</th>\n",
       "      <th>workers</th>\n",
       "      <th>winner</th>\n",
       "    </tr>\n",
       "  </thead>\n",
       "  <tbody>\n",
       "    <tr>\n",
       "      <th>163</th>\n",
       "      <td>2015</td>\n",
       "      <td>58th Annual GRAMMY Awards  (2015)</td>\n",
       "      <td>Best Contemporary Classical Composition</td>\n",
       "      <td>Paulus: Prayers &amp; Remembrances</td>\n",
       "      <td>Stephen Paulus</td>\n",
       "      <td>Stephen Paulus, composer</td>\n",
       "      <td>True</td>\n",
       "    </tr>\n",
       "    <tr>\n",
       "      <th>164</th>\n",
       "      <td>2019</td>\n",
       "      <td>62nd Annual GRAMMY Awards  (2019)</td>\n",
       "      <td>Best Improvised Jazz Solo</td>\n",
       "      <td>Sozinho</td>\n",
       "      <td>Randy Brecker</td>\n",
       "      <td>Randy Brecker, soloist</td>\n",
       "      <td>True</td>\n",
       "    </tr>\n",
       "    <tr>\n",
       "      <th>165</th>\n",
       "      <td>2019</td>\n",
       "      <td>62nd Annual GRAMMY Awards  (2019)</td>\n",
       "      <td>Best Improvised Jazz Solo</td>\n",
       "      <td>Elsewhere</td>\n",
       "      <td>Melissa Aldana</td>\n",
       "      <td>Melissa Aldana, soloist</td>\n",
       "      <td>True</td>\n",
       "    </tr>\n",
       "  </tbody>\n",
       "</table>\n",
       "</div>"
      ],
      "text/plain": [
       "     year                              title  \\\n",
       "163  2015  58th Annual GRAMMY Awards  (2015)   \n",
       "164  2019  62nd Annual GRAMMY Awards  (2019)   \n",
       "165  2019  62nd Annual GRAMMY Awards  (2019)   \n",
       "\n",
       "                                    category                         nominee  \\\n",
       "163  Best Contemporary Classical Composition  Paulus: Prayers & Remembrances   \n",
       "164                Best Improvised Jazz Solo                         Sozinho   \n",
       "165                Best Improvised Jazz Solo                       Elsewhere   \n",
       "\n",
       "             artist                   workers  winner  \n",
       "163  Stephen Paulus  Stephen Paulus, composer    True  \n",
       "164   Randy Brecker    Randy Brecker, soloist    True  \n",
       "165  Melissa Aldana   Melissa Aldana, soloist    True  "
      ]
     },
     "execution_count": 17,
     "metadata": {},
     "output_type": "execute_result"
    }
   ],
   "source": [
    "grammys.iloc[163:166]"
   ]
  },
  {
   "cell_type": "markdown",
   "metadata": {},
   "source": [
    "Let us now review how many null values we have:"
   ]
  },
  {
   "cell_type": "code",
   "execution_count": 18,
   "metadata": {},
   "outputs": [
    {
     "data": {
      "text/plain": [
       "year           0\n",
       "title          0\n",
       "category       0\n",
       "nominee        6\n",
       "artist       197\n",
       "workers     2190\n",
       "winner         0\n",
       "dtype: int64"
      ]
     },
     "execution_count": 18,
     "metadata": {},
     "output_type": "execute_result"
    }
   ],
   "source": [
    "grammys.isna().sum()"
   ]
  },
  {
   "cell_type": "markdown",
   "metadata": {},
   "source": [
    "We can see that we have 197 null values in \"artist\", something really positive.\n",
    "Now, something that I noticed was that the columns \"workers\" and \"artist\" have null values both as we will see below:"
   ]
  },
  {
   "cell_type": "code",
   "execution_count": 19,
   "metadata": {},
   "outputs": [
    {
     "data": {
      "text/html": [
       "<div>\n",
       "<style scoped>\n",
       "    .dataframe tbody tr th:only-of-type {\n",
       "        vertical-align: middle;\n",
       "    }\n",
       "\n",
       "    .dataframe tbody tr th {\n",
       "        vertical-align: top;\n",
       "    }\n",
       "\n",
       "    .dataframe thead th {\n",
       "        text-align: right;\n",
       "    }\n",
       "</style>\n",
       "<table border=\"1\" class=\"dataframe\">\n",
       "  <thead>\n",
       "    <tr style=\"text-align: right;\">\n",
       "      <th></th>\n",
       "      <th>year</th>\n",
       "      <th>title</th>\n",
       "      <th>category</th>\n",
       "      <th>nominee</th>\n",
       "      <th>artist</th>\n",
       "      <th>workers</th>\n",
       "      <th>winner</th>\n",
       "    </tr>\n",
       "  </thead>\n",
       "  <tbody>\n",
       "    <tr>\n",
       "      <th>29</th>\n",
       "      <td>2019</td>\n",
       "      <td>62nd Annual GRAMMY Awards  (2019)</td>\n",
       "      <td>Best New Artist</td>\n",
       "      <td>ROSALÍA</td>\n",
       "      <td>None</td>\n",
       "      <td>None</td>\n",
       "      <td>True</td>\n",
       "    </tr>\n",
       "    <tr>\n",
       "      <th>30</th>\n",
       "      <td>2019</td>\n",
       "      <td>62nd Annual GRAMMY Awards  (2019)</td>\n",
       "      <td>Best New Artist</td>\n",
       "      <td>Tank And The Bangas</td>\n",
       "      <td>None</td>\n",
       "      <td>None</td>\n",
       "      <td>True</td>\n",
       "    </tr>\n",
       "    <tr>\n",
       "      <th>31</th>\n",
       "      <td>2019</td>\n",
       "      <td>62nd Annual GRAMMY Awards  (2019)</td>\n",
       "      <td>Best New Artist</td>\n",
       "      <td>Yola</td>\n",
       "      <td>None</td>\n",
       "      <td>None</td>\n",
       "      <td>True</td>\n",
       "    </tr>\n",
       "    <tr>\n",
       "      <th>115</th>\n",
       "      <td>2018</td>\n",
       "      <td>61st Annual GRAMMY Awards  (2018)</td>\n",
       "      <td>Best New Artist</td>\n",
       "      <td>Dua Lipa</td>\n",
       "      <td>None</td>\n",
       "      <td>None</td>\n",
       "      <td>True</td>\n",
       "    </tr>\n",
       "    <tr>\n",
       "      <th>192</th>\n",
       "      <td>2019</td>\n",
       "      <td>62nd Annual GRAMMY Awards  (2019)</td>\n",
       "      <td>Best Gospel Performance/Song</td>\n",
       "      <td>See The Light</td>\n",
       "      <td>None</td>\n",
       "      <td>Travis Greene Featuring Jekalyn Carr</td>\n",
       "      <td>True</td>\n",
       "    </tr>\n",
       "    <tr>\n",
       "      <th>193</th>\n",
       "      <td>2019</td>\n",
       "      <td>62nd Annual GRAMMY Awards  (2019)</td>\n",
       "      <td>Best Gospel Performance/Song</td>\n",
       "      <td>Speak The Name</td>\n",
       "      <td>None</td>\n",
       "      <td>Koryn Hawthorne Featuring Natalie Grant</td>\n",
       "      <td>True</td>\n",
       "    </tr>\n",
       "    <tr>\n",
       "      <th>198</th>\n",
       "      <td>2019</td>\n",
       "      <td>62nd Annual GRAMMY Awards  (2019)</td>\n",
       "      <td>Best Contemporary Christian Music Performance/...</td>\n",
       "      <td>God's Not Done With You (Single Version)</td>\n",
       "      <td>None</td>\n",
       "      <td>Tauren Wells</td>\n",
       "      <td>True</td>\n",
       "    </tr>\n",
       "    <tr>\n",
       "      <th>402</th>\n",
       "      <td>2019</td>\n",
       "      <td>62nd Annual GRAMMY Awards  (2019)</td>\n",
       "      <td>Best Chamber Music/Small Ensemble Performance</td>\n",
       "      <td>Shaw: Orange</td>\n",
       "      <td>None</td>\n",
       "      <td>Attacca Quartet</td>\n",
       "      <td>True</td>\n",
       "    </tr>\n",
       "    <tr>\n",
       "      <th>403</th>\n",
       "      <td>2019</td>\n",
       "      <td>62nd Annual GRAMMY Awards  (2019)</td>\n",
       "      <td>Best Chamber Music/Small Ensemble Performance</td>\n",
       "      <td>Cerrone: The Pieces That Fall To Earth</td>\n",
       "      <td>None</td>\n",
       "      <td>Christopher Rountree &amp; Wild Up</td>\n",
       "      <td>True</td>\n",
       "    </tr>\n",
       "    <tr>\n",
       "      <th>404</th>\n",
       "      <td>2019</td>\n",
       "      <td>62nd Annual GRAMMY Awards  (2019)</td>\n",
       "      <td>Best Chamber Music/Small Ensemble Performance</td>\n",
       "      <td>Freedom &amp; Faith</td>\n",
       "      <td>None</td>\n",
       "      <td>PUBLIQuartet</td>\n",
       "      <td>True</td>\n",
       "    </tr>\n",
       "  </tbody>\n",
       "</table>\n",
       "</div>"
      ],
      "text/plain": [
       "     year                              title  \\\n",
       "29   2019  62nd Annual GRAMMY Awards  (2019)   \n",
       "30   2019  62nd Annual GRAMMY Awards  (2019)   \n",
       "31   2019  62nd Annual GRAMMY Awards  (2019)   \n",
       "115  2018  61st Annual GRAMMY Awards  (2018)   \n",
       "192  2019  62nd Annual GRAMMY Awards  (2019)   \n",
       "193  2019  62nd Annual GRAMMY Awards  (2019)   \n",
       "198  2019  62nd Annual GRAMMY Awards  (2019)   \n",
       "402  2019  62nd Annual GRAMMY Awards  (2019)   \n",
       "403  2019  62nd Annual GRAMMY Awards  (2019)   \n",
       "404  2019  62nd Annual GRAMMY Awards  (2019)   \n",
       "\n",
       "                                              category  \\\n",
       "29                                     Best New Artist   \n",
       "30                                     Best New Artist   \n",
       "31                                     Best New Artist   \n",
       "115                                    Best New Artist   \n",
       "192                       Best Gospel Performance/Song   \n",
       "193                       Best Gospel Performance/Song   \n",
       "198  Best Contemporary Christian Music Performance/...   \n",
       "402      Best Chamber Music/Small Ensemble Performance   \n",
       "403      Best Chamber Music/Small Ensemble Performance   \n",
       "404      Best Chamber Music/Small Ensemble Performance   \n",
       "\n",
       "                                      nominee artist  \\\n",
       "29                                    ROSALÍA   None   \n",
       "30                        Tank And The Bangas   None   \n",
       "31                                       Yola   None   \n",
       "115                                  Dua Lipa   None   \n",
       "192                             See The Light   None   \n",
       "193                            Speak The Name   None   \n",
       "198  God's Not Done With You (Single Version)   None   \n",
       "402                              Shaw: Orange   None   \n",
       "403    Cerrone: The Pieces That Fall To Earth   None   \n",
       "404                           Freedom & Faith   None   \n",
       "\n",
       "                                     workers  winner  \n",
       "29                                      None    True  \n",
       "30                                      None    True  \n",
       "31                                      None    True  \n",
       "115                                     None    True  \n",
       "192     Travis Greene Featuring Jekalyn Carr    True  \n",
       "193  Koryn Hawthorne Featuring Natalie Grant    True  \n",
       "198                             Tauren Wells    True  \n",
       "402                          Attacca Quartet    True  \n",
       "403           Christopher Rountree & Wild Up    True  \n",
       "404                             PUBLIQuartet    True  "
      ]
     },
     "execution_count": 19,
     "metadata": {},
     "output_type": "execute_result"
    }
   ],
   "source": [
    "grammys.loc[grammys['artist'].isnull()][5:15]"
   ]
  },
  {
   "cell_type": "markdown",
   "metadata": {},
   "source": [
    "Woooow, if we look at the \"nominee\" column, we can see that the name of the artist appears; in addition, in \"workers\" there are some names, which we can move to the \"artist\" column; assuming that they are the artists. For example, we can see the name \"Tauren Wells\", who is an American singer. So let's go to it.\n",
    "\n",
    "4. First, we will pass the names that appear in \"workers\" to artist:"
   ]
  },
  {
   "cell_type": "code",
   "execution_count": 20,
   "metadata": {},
   "outputs": [],
   "source": [
    "workers = grammys['artist'].isnull() & ~grammys['workers'].isnull()\n",
    "\n",
    "grammys.loc[workers, 'artist'] = grammys.loc[workers, 'workers']"
   ]
  },
  {
   "cell_type": "markdown",
   "metadata": {},
   "source": [
    "Now, we will filter these results:"
   ]
  },
  {
   "cell_type": "code",
   "execution_count": 21,
   "metadata": {},
   "outputs": [
    {
     "data": {
      "text/html": [
       "<div>\n",
       "<style scoped>\n",
       "    .dataframe tbody tr th:only-of-type {\n",
       "        vertical-align: middle;\n",
       "    }\n",
       "\n",
       "    .dataframe tbody tr th {\n",
       "        vertical-align: top;\n",
       "    }\n",
       "\n",
       "    .dataframe thead th {\n",
       "        text-align: right;\n",
       "    }\n",
       "</style>\n",
       "<table border=\"1\" class=\"dataframe\">\n",
       "  <thead>\n",
       "    <tr style=\"text-align: right;\">\n",
       "      <th></th>\n",
       "      <th>year</th>\n",
       "      <th>title</th>\n",
       "      <th>category</th>\n",
       "      <th>nominee</th>\n",
       "      <th>artist</th>\n",
       "      <th>workers</th>\n",
       "      <th>winner</th>\n",
       "    </tr>\n",
       "  </thead>\n",
       "  <tbody>\n",
       "    <tr>\n",
       "      <th>192</th>\n",
       "      <td>2019</td>\n",
       "      <td>62nd Annual GRAMMY Awards  (2019)</td>\n",
       "      <td>Best Gospel Performance/Song</td>\n",
       "      <td>See The Light</td>\n",
       "      <td>Travis Greene Featuring Jekalyn Carr</td>\n",
       "      <td>Travis Greene Featuring Jekalyn Carr</td>\n",
       "      <td>True</td>\n",
       "    </tr>\n",
       "    <tr>\n",
       "      <th>193</th>\n",
       "      <td>2019</td>\n",
       "      <td>62nd Annual GRAMMY Awards  (2019)</td>\n",
       "      <td>Best Gospel Performance/Song</td>\n",
       "      <td>Speak The Name</td>\n",
       "      <td>Koryn Hawthorne Featuring Natalie Grant</td>\n",
       "      <td>Koryn Hawthorne Featuring Natalie Grant</td>\n",
       "      <td>True</td>\n",
       "    </tr>\n",
       "    <tr>\n",
       "      <th>198</th>\n",
       "      <td>2019</td>\n",
       "      <td>62nd Annual GRAMMY Awards  (2019)</td>\n",
       "      <td>Best Contemporary Christian Music Performance/...</td>\n",
       "      <td>God's Not Done With You (Single Version)</td>\n",
       "      <td>Tauren Wells</td>\n",
       "      <td>Tauren Wells</td>\n",
       "      <td>True</td>\n",
       "    </tr>\n",
       "    <tr>\n",
       "      <th>402</th>\n",
       "      <td>2019</td>\n",
       "      <td>62nd Annual GRAMMY Awards  (2019)</td>\n",
       "      <td>Best Chamber Music/Small Ensemble Performance</td>\n",
       "      <td>Shaw: Orange</td>\n",
       "      <td>Attacca Quartet</td>\n",
       "      <td>Attacca Quartet</td>\n",
       "      <td>True</td>\n",
       "    </tr>\n",
       "    <tr>\n",
       "      <th>403</th>\n",
       "      <td>2019</td>\n",
       "      <td>62nd Annual GRAMMY Awards  (2019)</td>\n",
       "      <td>Best Chamber Music/Small Ensemble Performance</td>\n",
       "      <td>Cerrone: The Pieces That Fall To Earth</td>\n",
       "      <td>Christopher Rountree &amp; Wild Up</td>\n",
       "      <td>Christopher Rountree &amp; Wild Up</td>\n",
       "      <td>True</td>\n",
       "    </tr>\n",
       "  </tbody>\n",
       "</table>\n",
       "</div>"
      ],
      "text/plain": [
       "     year                              title  \\\n",
       "192  2019  62nd Annual GRAMMY Awards  (2019)   \n",
       "193  2019  62nd Annual GRAMMY Awards  (2019)   \n",
       "198  2019  62nd Annual GRAMMY Awards  (2019)   \n",
       "402  2019  62nd Annual GRAMMY Awards  (2019)   \n",
       "403  2019  62nd Annual GRAMMY Awards  (2019)   \n",
       "\n",
       "                                              category  \\\n",
       "192                       Best Gospel Performance/Song   \n",
       "193                       Best Gospel Performance/Song   \n",
       "198  Best Contemporary Christian Music Performance/...   \n",
       "402      Best Chamber Music/Small Ensemble Performance   \n",
       "403      Best Chamber Music/Small Ensemble Performance   \n",
       "\n",
       "                                      nominee  \\\n",
       "192                             See The Light   \n",
       "193                            Speak The Name   \n",
       "198  God's Not Done With You (Single Version)   \n",
       "402                              Shaw: Orange   \n",
       "403    Cerrone: The Pieces That Fall To Earth   \n",
       "\n",
       "                                      artist  \\\n",
       "192     Travis Greene Featuring Jekalyn Carr   \n",
       "193  Koryn Hawthorne Featuring Natalie Grant   \n",
       "198                             Tauren Wells   \n",
       "402                          Attacca Quartet   \n",
       "403           Christopher Rountree & Wild Up   \n",
       "\n",
       "                                     workers  winner  \n",
       "192     Travis Greene Featuring Jekalyn Carr    True  \n",
       "193  Koryn Hawthorne Featuring Natalie Grant    True  \n",
       "198                             Tauren Wells    True  \n",
       "402                          Attacca Quartet    True  \n",
       "403           Christopher Rountree & Wild Up    True  "
      ]
     },
     "execution_count": 21,
     "metadata": {},
     "output_type": "execute_result"
    }
   ],
   "source": [
    "workersNameList = [192, 193, 198, 402, 403]\n",
    "\n",
    "grammys.iloc[workersNameList]"
   ]
  },
  {
   "cell_type": "markdown",
   "metadata": {},
   "source": [
    "Perfect, now let's look at the other thing I mentioned, which is that we had (None) in the columns \"artist\" and \"workers\"."
   ]
  },
  {
   "cell_type": "code",
   "execution_count": 22,
   "metadata": {},
   "outputs": [
    {
     "data": {
      "text/html": [
       "<div>\n",
       "<style scoped>\n",
       "    .dataframe tbody tr th:only-of-type {\n",
       "        vertical-align: middle;\n",
       "    }\n",
       "\n",
       "    .dataframe tbody tr th {\n",
       "        vertical-align: top;\n",
       "    }\n",
       "\n",
       "    .dataframe thead th {\n",
       "        text-align: right;\n",
       "    }\n",
       "</style>\n",
       "<table border=\"1\" class=\"dataframe\">\n",
       "  <thead>\n",
       "    <tr style=\"text-align: right;\">\n",
       "      <th></th>\n",
       "      <th>year</th>\n",
       "      <th>title</th>\n",
       "      <th>category</th>\n",
       "      <th>nominee</th>\n",
       "      <th>artist</th>\n",
       "      <th>workers</th>\n",
       "      <th>winner</th>\n",
       "    </tr>\n",
       "  </thead>\n",
       "  <tbody>\n",
       "    <tr>\n",
       "      <th>24</th>\n",
       "      <td>2019</td>\n",
       "      <td>62nd Annual GRAMMY Awards  (2019)</td>\n",
       "      <td>Best New Artist</td>\n",
       "      <td>Billie Eilish</td>\n",
       "      <td>None</td>\n",
       "      <td>None</td>\n",
       "      <td>True</td>\n",
       "    </tr>\n",
       "    <tr>\n",
       "      <th>25</th>\n",
       "      <td>2019</td>\n",
       "      <td>62nd Annual GRAMMY Awards  (2019)</td>\n",
       "      <td>Best New Artist</td>\n",
       "      <td>Black Pumas</td>\n",
       "      <td>None</td>\n",
       "      <td>None</td>\n",
       "      <td>True</td>\n",
       "    </tr>\n",
       "    <tr>\n",
       "      <th>26</th>\n",
       "      <td>2019</td>\n",
       "      <td>62nd Annual GRAMMY Awards  (2019)</td>\n",
       "      <td>Best New Artist</td>\n",
       "      <td>Lil Nas X</td>\n",
       "      <td>None</td>\n",
       "      <td>None</td>\n",
       "      <td>True</td>\n",
       "    </tr>\n",
       "    <tr>\n",
       "      <th>27</th>\n",
       "      <td>2019</td>\n",
       "      <td>62nd Annual GRAMMY Awards  (2019)</td>\n",
       "      <td>Best New Artist</td>\n",
       "      <td>Lizzo</td>\n",
       "      <td>None</td>\n",
       "      <td>None</td>\n",
       "      <td>True</td>\n",
       "    </tr>\n",
       "    <tr>\n",
       "      <th>28</th>\n",
       "      <td>2019</td>\n",
       "      <td>62nd Annual GRAMMY Awards  (2019)</td>\n",
       "      <td>Best New Artist</td>\n",
       "      <td>Maggie Rogers</td>\n",
       "      <td>None</td>\n",
       "      <td>None</td>\n",
       "      <td>True</td>\n",
       "    </tr>\n",
       "  </tbody>\n",
       "</table>\n",
       "</div>"
      ],
      "text/plain": [
       "    year                              title         category        nominee  \\\n",
       "24  2019  62nd Annual GRAMMY Awards  (2019)  Best New Artist  Billie Eilish   \n",
       "25  2019  62nd Annual GRAMMY Awards  (2019)  Best New Artist    Black Pumas   \n",
       "26  2019  62nd Annual GRAMMY Awards  (2019)  Best New Artist      Lil Nas X   \n",
       "27  2019  62nd Annual GRAMMY Awards  (2019)  Best New Artist          Lizzo   \n",
       "28  2019  62nd Annual GRAMMY Awards  (2019)  Best New Artist  Maggie Rogers   \n",
       "\n",
       "   artist workers  winner  \n",
       "24   None    None    True  \n",
       "25   None    None    True  \n",
       "26   None    None    True  \n",
       "27   None    None    True  \n",
       "28   None    None    True  "
      ]
     },
     "execution_count": 22,
     "metadata": {},
     "output_type": "execute_result"
    }
   ],
   "source": [
    "grammys.loc[grammys['artist'].isnull()][:5]"
   ]
  },
  {
   "cell_type": "markdown",
   "metadata": {},
   "source": [
    "5. Let's do it:"
   ]
  },
  {
   "cell_type": "code",
   "execution_count": 23,
   "metadata": {},
   "outputs": [],
   "source": [
    "grammys.loc[(grammys['artist'].isnull()), 'artist'] = grammys['nominee']"
   ]
  },
  {
   "cell_type": "code",
   "execution_count": 24,
   "metadata": {},
   "outputs": [
    {
     "data": {
      "text/html": [
       "<div>\n",
       "<style scoped>\n",
       "    .dataframe tbody tr th:only-of-type {\n",
       "        vertical-align: middle;\n",
       "    }\n",
       "\n",
       "    .dataframe tbody tr th {\n",
       "        vertical-align: top;\n",
       "    }\n",
       "\n",
       "    .dataframe thead th {\n",
       "        text-align: right;\n",
       "    }\n",
       "</style>\n",
       "<table border=\"1\" class=\"dataframe\">\n",
       "  <thead>\n",
       "    <tr style=\"text-align: right;\">\n",
       "      <th></th>\n",
       "      <th>year</th>\n",
       "      <th>title</th>\n",
       "      <th>category</th>\n",
       "      <th>nominee</th>\n",
       "      <th>artist</th>\n",
       "      <th>workers</th>\n",
       "      <th>winner</th>\n",
       "    </tr>\n",
       "  </thead>\n",
       "  <tbody>\n",
       "    <tr>\n",
       "      <th>24</th>\n",
       "      <td>2019</td>\n",
       "      <td>62nd Annual GRAMMY Awards  (2019)</td>\n",
       "      <td>Best New Artist</td>\n",
       "      <td>Billie Eilish</td>\n",
       "      <td>Billie Eilish</td>\n",
       "      <td>None</td>\n",
       "      <td>True</td>\n",
       "    </tr>\n",
       "    <tr>\n",
       "      <th>25</th>\n",
       "      <td>2019</td>\n",
       "      <td>62nd Annual GRAMMY Awards  (2019)</td>\n",
       "      <td>Best New Artist</td>\n",
       "      <td>Black Pumas</td>\n",
       "      <td>Black Pumas</td>\n",
       "      <td>None</td>\n",
       "      <td>True</td>\n",
       "    </tr>\n",
       "    <tr>\n",
       "      <th>26</th>\n",
       "      <td>2019</td>\n",
       "      <td>62nd Annual GRAMMY Awards  (2019)</td>\n",
       "      <td>Best New Artist</td>\n",
       "      <td>Lil Nas X</td>\n",
       "      <td>Lil Nas X</td>\n",
       "      <td>None</td>\n",
       "      <td>True</td>\n",
       "    </tr>\n",
       "    <tr>\n",
       "      <th>27</th>\n",
       "      <td>2019</td>\n",
       "      <td>62nd Annual GRAMMY Awards  (2019)</td>\n",
       "      <td>Best New Artist</td>\n",
       "      <td>Lizzo</td>\n",
       "      <td>Lizzo</td>\n",
       "      <td>None</td>\n",
       "      <td>True</td>\n",
       "    </tr>\n",
       "    <tr>\n",
       "      <th>28</th>\n",
       "      <td>2019</td>\n",
       "      <td>62nd Annual GRAMMY Awards  (2019)</td>\n",
       "      <td>Best New Artist</td>\n",
       "      <td>Maggie Rogers</td>\n",
       "      <td>Maggie Rogers</td>\n",
       "      <td>None</td>\n",
       "      <td>True</td>\n",
       "    </tr>\n",
       "  </tbody>\n",
       "</table>\n",
       "</div>"
      ],
      "text/plain": [
       "    year                              title         category        nominee  \\\n",
       "24  2019  62nd Annual GRAMMY Awards  (2019)  Best New Artist  Billie Eilish   \n",
       "25  2019  62nd Annual GRAMMY Awards  (2019)  Best New Artist    Black Pumas   \n",
       "26  2019  62nd Annual GRAMMY Awards  (2019)  Best New Artist      Lil Nas X   \n",
       "27  2019  62nd Annual GRAMMY Awards  (2019)  Best New Artist          Lizzo   \n",
       "28  2019  62nd Annual GRAMMY Awards  (2019)  Best New Artist  Maggie Rogers   \n",
       "\n",
       "           artist workers  winner  \n",
       "24  Billie Eilish    None    True  \n",
       "25    Black Pumas    None    True  \n",
       "26      Lil Nas X    None    True  \n",
       "27          Lizzo    None    True  \n",
       "28  Maggie Rogers    None    True  "
      ]
     },
     "execution_count": 24,
     "metadata": {},
     "output_type": "execute_result"
    }
   ],
   "source": [
    "list = [24,25,26,27,28]\n",
    "\n",
    "grammys.iloc[list]"
   ]
  },
  {
   "cell_type": "markdown",
   "metadata": {},
   "source": [
    "Perfect, we did it. Now let's see how many null values we have:"
   ]
  },
  {
   "cell_type": "code",
   "execution_count": 25,
   "metadata": {},
   "outputs": [
    {
     "data": {
      "text/plain": [
       "year           0\n",
       "title          0\n",
       "category       0\n",
       "nominee        6\n",
       "artist         6\n",
       "workers     2190\n",
       "winner         0\n",
       "dtype: int64"
      ]
     },
     "execution_count": 25,
     "metadata": {},
     "output_type": "execute_result"
    }
   ],
   "source": [
    "grammys.isna().sum()"
   ]
  },
  {
   "cell_type": "markdown",
   "metadata": {},
   "source": [
    "It is satisfying to see that in \"artist\" we only have 6 null values, let's print those values and see what else we can do to the column:"
   ]
  },
  {
   "cell_type": "code",
   "execution_count": 26,
   "metadata": {},
   "outputs": [
    {
     "data": {
      "text/html": [
       "<div>\n",
       "<style scoped>\n",
       "    .dataframe tbody tr th:only-of-type {\n",
       "        vertical-align: middle;\n",
       "    }\n",
       "\n",
       "    .dataframe tbody tr th {\n",
       "        vertical-align: top;\n",
       "    }\n",
       "\n",
       "    .dataframe thead th {\n",
       "        text-align: right;\n",
       "    }\n",
       "</style>\n",
       "<table border=\"1\" class=\"dataframe\">\n",
       "  <thead>\n",
       "    <tr style=\"text-align: right;\">\n",
       "      <th></th>\n",
       "      <th>year</th>\n",
       "      <th>title</th>\n",
       "      <th>category</th>\n",
       "      <th>nominee</th>\n",
       "      <th>artist</th>\n",
       "      <th>workers</th>\n",
       "      <th>winner</th>\n",
       "    </tr>\n",
       "  </thead>\n",
       "  <tbody>\n",
       "    <tr>\n",
       "      <th>2274</th>\n",
       "      <td>2000</td>\n",
       "      <td>43rd Annual GRAMMY Awards  (2000)</td>\n",
       "      <td>Remixer of the Year, Non-Classical</td>\n",
       "      <td>None</td>\n",
       "      <td>None</td>\n",
       "      <td>None</td>\n",
       "      <td>True</td>\n",
       "    </tr>\n",
       "    <tr>\n",
       "      <th>2372</th>\n",
       "      <td>1999</td>\n",
       "      <td>42nd Annual GRAMMY Awards  (1999)</td>\n",
       "      <td>Remixer Of The Year, Non-Classical</td>\n",
       "      <td>None</td>\n",
       "      <td>None</td>\n",
       "      <td>None</td>\n",
       "      <td>True</td>\n",
       "    </tr>\n",
       "    <tr>\n",
       "      <th>2464</th>\n",
       "      <td>1998</td>\n",
       "      <td>41st Annual GRAMMY Awards  (1998)</td>\n",
       "      <td>Remixer Of The Year, Non-classical</td>\n",
       "      <td>None</td>\n",
       "      <td>None</td>\n",
       "      <td>None</td>\n",
       "      <td>True</td>\n",
       "    </tr>\n",
       "    <tr>\n",
       "      <th>2560</th>\n",
       "      <td>1997</td>\n",
       "      <td>40th Annual GRAMMY Awards  (1997)</td>\n",
       "      <td>Remixer Of The Year, Non-Classical</td>\n",
       "      <td>None</td>\n",
       "      <td>None</td>\n",
       "      <td>None</td>\n",
       "      <td>True</td>\n",
       "    </tr>\n",
       "    <tr>\n",
       "      <th>4527</th>\n",
       "      <td>1965</td>\n",
       "      <td>8th Annual GRAMMY Awards  (1965)</td>\n",
       "      <td>Best New Country &amp; Western Artist</td>\n",
       "      <td>None</td>\n",
       "      <td>None</td>\n",
       "      <td>None</td>\n",
       "      <td>True</td>\n",
       "    </tr>\n",
       "    <tr>\n",
       "      <th>4574</th>\n",
       "      <td>1964</td>\n",
       "      <td>7th Annual GRAMMY Awards  (1964)</td>\n",
       "      <td>Best New Country &amp; Western Artist Of 1964</td>\n",
       "      <td>None</td>\n",
       "      <td>None</td>\n",
       "      <td>None</td>\n",
       "      <td>True</td>\n",
       "    </tr>\n",
       "  </tbody>\n",
       "</table>\n",
       "</div>"
      ],
      "text/plain": [
       "      year                              title  \\\n",
       "2274  2000  43rd Annual GRAMMY Awards  (2000)   \n",
       "2372  1999  42nd Annual GRAMMY Awards  (1999)   \n",
       "2464  1998  41st Annual GRAMMY Awards  (1998)   \n",
       "2560  1997  40th Annual GRAMMY Awards  (1997)   \n",
       "4527  1965   8th Annual GRAMMY Awards  (1965)   \n",
       "4574  1964   7th Annual GRAMMY Awards  (1964)   \n",
       "\n",
       "                                       category nominee artist workers  winner  \n",
       "2274         Remixer of the Year, Non-Classical    None   None    None    True  \n",
       "2372         Remixer Of The Year, Non-Classical    None   None    None    True  \n",
       "2464         Remixer Of The Year, Non-classical    None   None    None    True  \n",
       "2560         Remixer Of The Year, Non-Classical    None   None    None    True  \n",
       "4527          Best New Country & Western Artist    None   None    None    True  \n",
       "4574  Best New Country & Western Artist Of 1964    None   None    None    True  "
      ]
     },
     "execution_count": 26,
     "metadata": {},
     "output_type": "execute_result"
    }
   ],
   "source": [
    "grammys.loc[grammys['artist'].isnull()][:7]"
   ]
  },
  {
   "cell_type": "markdown",
   "metadata": {},
   "source": [
    "Here we print those values, but we see that we cannot do anything else, so I have decided to delete the rows of \"artist\" that contain those null values.\n",
    "I will also remove the null values from the \"nominee\" column since there are only 6 records as in \"artist\".\n",
    "\n",
    "Another thing I noticed here was that in the \"category\" column there are values with capital letters and others with small letters, but we will organize that later.For example, we find \"Remixer of the Year, Non-Classical\" and further down \"Remixer Of The Year, Non-classical\" and also written \"Remixer Of The Year, Non-Classical\". As these columns will be eliminated, I still prevent by doing the transformation for all values.\n",
    "\n",
    "I have taken the decision to delete the \"workers\" column since it was only useful to perform my transformations; it will not be useful for my final analysis."
   ]
  },
  {
   "cell_type": "code",
   "execution_count": 27,
   "metadata": {},
   "outputs": [],
   "source": [
    "# 6. Delete the null values in \"artist\" and \"nominee\"\n",
    "grammys.dropna(subset=['artist', 'nominee'], inplace=True)\n",
    "\n",
    "#Delete the column \"workers\"\n",
    "grammys.drop(['workers'], axis=1, inplace=True)"
   ]
  },
  {
   "cell_type": "markdown",
   "metadata": {},
   "source": [
    "Now, let's see how many nulls we are left with:"
   ]
  },
  {
   "cell_type": "code",
   "execution_count": 28,
   "metadata": {},
   "outputs": [
    {
     "data": {
      "text/plain": [
       "year        0\n",
       "title       0\n",
       "category    0\n",
       "nominee     0\n",
       "artist      0\n",
       "winner      0\n",
       "dtype: int64"
      ]
     },
     "execution_count": 28,
     "metadata": {},
     "output_type": "execute_result"
    }
   ],
   "source": [
    "grammys.isna().sum()"
   ]
  },
  {
   "cell_type": "markdown",
   "metadata": {},
   "source": [
    "7. How satisfying to see no null values among them. But something escapes me, as I mentioned before, let's do the respective procedure with the \"category\" column on the upper and lower case values. I will take the opportunity to leave all of them in lowercase and remove the characters between them."
   ]
  },
  {
   "cell_type": "code",
   "execution_count": 29,
   "metadata": {},
   "outputs": [],
   "source": [
    "grammys['category'] = [i.lower().replace('(', '').replace(')', '').replace('-', ' ').replace(',', '') for i in grammys['category']]"
   ]
  },
  {
   "cell_type": "code",
   "execution_count": 30,
   "metadata": {},
   "outputs": [
    {
     "data": {
      "text/plain": [
       "array(['record of the year', 'album of the year', 'song of the year',\n",
       "       'best new artist', 'best pop solo performance',\n",
       "       'best pop duo/group performance',\n",
       "       'best traditional pop vocal album', 'best pop vocal album',\n",
       "       'best dance recording', 'best dance/electronic album',\n",
       "       'best contemporary instrumental album', 'best rock performance',\n",
       "       'best metal performance', 'best rock song', 'best rock album',\n",
       "       'best alternative music album', 'best r&b performance',\n",
       "       'best traditional r&b performance', 'best r&b song',\n",
       "       'best urban contemporary album', 'best r&b album',\n",
       "       'best rap performance', 'best rap/sung performance',\n",
       "       'best rap song', 'best rap album', 'best country solo performance',\n",
       "       'best country duo/group performance', 'best country song',\n",
       "       'best country album', 'best new age album',\n",
       "       'best contemporary classical composition',\n",
       "       'best improvised jazz solo', 'best jazz vocal album',\n",
       "       'best jazz instrumental album', 'best large jazz ensemble album',\n",
       "       'best latin jazz album', 'best engineered album classical',\n",
       "       'best gospel performance/song',\n",
       "       'best contemporary christian music performance/song',\n",
       "       'best gospel album', 'best contemporary christian music album',\n",
       "       'best roots gospel album', 'best latin pop album',\n",
       "       'best latin rock urban or alternative album',\n",
       "       'best regional mexican music album including tejano',\n",
       "       'best tropical latin album', 'best american roots performance',\n",
       "       'best american roots song', 'best americana album',\n",
       "       'best bluegrass album', 'best traditional blues album',\n",
       "       'best contemporary blues album', 'best reggae album',\n",
       "       'best folk album', 'best regional roots music album',\n",
       "       'best world music album', \"best children's music album\",\n",
       "       'best spoken word album includes poetry audio books & storytelling',\n",
       "       'best comedy album', 'best musical theater album',\n",
       "       'best compilation soundtrack for visual media',\n",
       "       'best classical compendium',\n",
       "       'best score soundtrack for visual media',\n",
       "       'best song written for visual media',\n",
       "       'best instrumental composition',\n",
       "       'best arrangement instrumental or a cappella',\n",
       "       'best arrangement instruments and vocals',\n",
       "       'best recording package',\n",
       "       'best boxed or special limited edition package',\n",
       "       'best album notes', 'best historical album',\n",
       "       'best engineered album non classical',\n",
       "       'producer of the year non classical', 'best remixed recording',\n",
       "       'best immersive audio album', 'producer of the year classical',\n",
       "       'best orchestral performance', 'best opera recording',\n",
       "       'best choral performance',\n",
       "       'best chamber music/small ensemble performance',\n",
       "       'best classical instrumental solo',\n",
       "       'best classical solo vocal album', 'best music video',\n",
       "       'best music film', \"best children's album\",\n",
       "       'best rap solo performance', 'best surround sound album',\n",
       "       'best remixed recording non classical',\n",
       "       'best rap/sung collaboration', 'best blues album',\n",
       "       'best traditional soul gospel album',\n",
       "       'best pop instrumental album', 'best dance/electronica album',\n",
       "       'best gospel/contemporary christian music performance',\n",
       "       'best gospel song', 'best contemporary christian music song',\n",
       "       'best instrumental arrangement',\n",
       "       'best instrumental arrangement accompanying vocalists',\n",
       "       'best classical vocal solo', 'best hard rock/metal performance',\n",
       "       'best instrumental arrangement accompanying vocals',\n",
       "       'best contemporary classical  composition',\n",
       "       'best short form music video', 'best long form music video',\n",
       "       'best latin pop rock or urban album',\n",
       "       'best regional mexican or tejano album',\n",
       "       'best banda or norteño album', 'best small ensemble performance',\n",
       "       'best female pop vocal performance',\n",
       "       'best male pop vocal performance',\n",
       "       'best pop performance by a duo or group with vocals',\n",
       "       'best pop collaboration with vocals',\n",
       "       'best pop instrumental performance', 'best electronic/dance album',\n",
       "       'best solo rock vocal performance',\n",
       "       'best rock performance by a duo or group with vocals',\n",
       "       'best hard rock performance', 'best rock instrumental performance',\n",
       "       'best female r&b vocal performance',\n",
       "       'best male r&b vocal performance',\n",
       "       'best r&b performance by a duo or group with vocals',\n",
       "       'best traditional r&b vocal performance',\n",
       "       'best urban/alternative performance',\n",
       "       'best contemporary r&b album',\n",
       "       'best rap performance by a duo or group',\n",
       "       'best female country vocal performance',\n",
       "       'best male country vocal performance',\n",
       "       'best country performance by a duo or group with vocals',\n",
       "       'best country collaboration with vocals',\n",
       "       'best country instrumental performance',\n",
       "       'best contemporary jazz album',\n",
       "       'best jazz instrumental album individual or group',\n",
       "       'best gospel performance', 'best rock or rap gospel album',\n",
       "       'best ethnic or traditional folk recording',\n",
       "       'best pop/contemporary gospel album',\n",
       "       'best southern country or bluegrass gospel album',\n",
       "       'best traditional gospel album',\n",
       "       'best contemporary r&b gospel album',\n",
       "       'best latin rock alternative or urban album', 'best tejano album',\n",
       "       'best norteño album', 'best banda album',\n",
       "       'best traditional folk album', 'best contemporary folk album',\n",
       "       'best hawaiian music album', 'best native american music album',\n",
       "       'best zydeco or cajun music album',\n",
       "       'best traditional world music album',\n",
       "       'best contemporary world music album',\n",
       "       'best musical album for children',\n",
       "       'best spoken word album for children',\n",
       "       'best spoken word album includes poetry audio books & story telling',\n",
       "       'best musical show album',\n",
       "       'best compilation soundtrack album for motion picture television or other visual media',\n",
       "       'best score soundtrack album for motion picture television or other visual media',\n",
       "       'best song written for motion picture television or other visual media',\n",
       "       'best classical album',\n",
       "       'best instrumental soloists performance with orchestra',\n",
       "       'best instrumental soloist performance without orchestra',\n",
       "       'best chamber music performance',\n",
       "       'best classical vocal performance',\n",
       "       'best classical contemporary composition',\n",
       "       'best classical crossover album', 'best polka recording',\n",
       "       'best regional mexican album', 'best jazz instrumental solo',\n",
       "       'best latin rock or alternative album', 'best latin urban album',\n",
       "       'best contemporary folk/americana album', 'best polka album',\n",
       "       'best mexican/mexican american album',\n",
       "       'best pop performance by a duo or group with vocal',\n",
       "       'best rock performance by a duo or group with vocal',\n",
       "       'best country performance by a duo or group with vocal',\n",
       "       'best soul gospel performance female', 'best rock gospel album',\n",
       "       'best contemporary soul gospel album',\n",
       "       'best gospel choir or chorus album',\n",
       "       'best latin rock/alternative album',\n",
       "       'best traditional tropical latin album',\n",
       "       'best salsa/merengue album', 'best spoken word album',\n",
       "       'best small ensemble performance with or without conductor',\n",
       "       'best recording for children',\n",
       "       'best classical vocal soloist performance',\n",
       "       'best compilation soundtrack album for a motion picture television or other visual media',\n",
       "       'best score soundtrack album for a motion picture television or other visual media',\n",
       "       'best song written for a motion picture television or other visual media',\n",
       "       'best female rock vocal performance',\n",
       "       'best male rock vocal performance',\n",
       "       'best female rap solo performance',\n",
       "       'best male rap solo performance',\n",
       "       'best r&b performance by a duo or group with vocal',\n",
       "       'best salsa album', 'best merengue album',\n",
       "       'best spoken comedy album', 'best traditional r&b vocal album',\n",
       "       'best boxed recording package',\n",
       "       'best song written for a motion picture television or other visual media.',\n",
       "       'best instrumental arrangement accompanying a vocalists',\n",
       "       'best pop album', 'best traditional pop vocal performance',\n",
       "       'best alternative music performance', 'best rhythm & blues song',\n",
       "       'best contemporary jazz performance',\n",
       "       'best jazz vocal performance',\n",
       "       'best jazz instrumental performance individual or group',\n",
       "       'best large jazz ensemble performance',\n",
       "       'best latin jazz performance', 'best latin pop performance',\n",
       "       'best latin rock/alternative performance',\n",
       "       'best traditional tropical latin performance',\n",
       "       'best salsa performance', 'best merengue performance',\n",
       "       'best mexican american performance', 'best tejano performance',\n",
       "       'best soundtrack album',\n",
       "       'best instrumental composition written for a motion picture television or other visual media.',\n",
       "       'best engineered album   non classical',\n",
       "       'best tropical latin performance',\n",
       "       'best mexican american music performance',\n",
       "       'best tejano music performance',\n",
       "       'best instrumental composition written for a motion picture or for television',\n",
       "       'best song written for a motion picture or for television',\n",
       "       'best mexican american/tejano music performance',\n",
       "       'best song written specifically for a motion picture or for television',\n",
       "       'best country vocal performance by a duo or group',\n",
       "       'best southern gospel country gospel or bluegrass gospel album',\n",
       "       'best gospel album by a choir or chorus',\n",
       "       'best engineered recording classical',\n",
       "       'best spoken word or non musical album',\n",
       "       'best instrumental arrangement with accompanying vocals',\n",
       "       'best recording package   boxed', 'producer of the year',\n",
       "       'best classical engineered recording',\n",
       "       'classical producer of the year', 'best music video short form',\n",
       "       'best music video long form', 'best pop vocal collaboration',\n",
       "       'best country vocal collaboration',\n",
       "       'best instrumental soloist performance with orchestra',\n",
       "       'best pop vocal performance female',\n",
       "       'best pop vocal performance male', 'best producer of the year',\n",
       "       'best rock vocal performance solo',\n",
       "       'best hard rock performance with vocal',\n",
       "       'best metal performance with vocal',\n",
       "       'best r&b vocal performance female',\n",
       "       'best r&b vocal performance male',\n",
       "       'best contemporary jazz performance instrumental',\n",
       "       'best country vocal performance female',\n",
       "       'best country vocal performance male',\n",
       "       'best engineered recording   non classical',\n",
       "       'best mexican american album', 'best music video   short form',\n",
       "       'best arrangement on an instrumental',\n",
       "       'best performance of a choral work',\n",
       "       'best classical performance instrumental soloists with orchestra',\n",
       "       'best classical performance instrumental soloist without orchestra',\n",
       "       'best contemporary composition',\n",
       "       'best rock vocal performance female',\n",
       "       'best rock vocal performance male',\n",
       "       'best r&b instrumental performance',\n",
       "       'best rock/contemporary gospel album', 'best pop gospel album',\n",
       "       'best southern gospel album', 'best album for children',\n",
       "       'best music video   long form', 'best album package',\n",
       "       'best gospel album by choir or chorus',\n",
       "       'best classical performance   instrumental solo with orchestra',\n",
       "       'best classical performance   instrumental solo without orchestra',\n",
       "       'best traditional pop performance',\n",
       "       'best jazz instrumental performance group',\n",
       "       'best instrumental soloist with orchestra',\n",
       "       'best classical performance instrumental solo without orchestra',\n",
       "       'best classical vocal soloist', 'best new age performance',\n",
       "       'best jazz fusion performance',\n",
       "       'best jazz vocal performance female',\n",
       "       'best jazz vocal performance male',\n",
       "       'best jazz instrumental performance soloist',\n",
       "       'best jazz instrumental performance big band',\n",
       "       'best bluegrass recording',\n",
       "       'best traditional soul gospel performance',\n",
       "       'best traditional blues recording',\n",
       "       'best contemporary blues recording',\n",
       "       'best traditional folk recording',\n",
       "       'best contemporary folk recording', 'best reggae recording',\n",
       "       'best comedy recording',\n",
       "       'best spoken word or non musical recording',\n",
       "       'best musical cast show album', 'best concept music video',\n",
       "       'best choral performance other than opera',\n",
       "       'best classical performance instrumental soloist with orchestra',\n",
       "       'best chamber music or other small ensemble performance',\n",
       "       'best engineered recording   classical',\n",
       "       'best jazz vocal performance duo or group',\n",
       "       'best jazz instrumental performance soloist on a jazz recording',\n",
       "       'best gospel vocal performance female',\n",
       "       'best gospel vocal performance male',\n",
       "       'best gospel vocal performance by a duo group choir or chorus',\n",
       "       'best soul gospel vocal performance male or female',\n",
       "       'best soul gospel vocal performance duo group choir or chorus',\n",
       "       'best album of original instrumental background score written for a motion picture or television',\n",
       "       'best song written specifically for a motion picture or television',\n",
       "       'best classical performance   instrumental soloist without orchestra',\n",
       "       'best pop instrumental performance orchestra group or soloist',\n",
       "       'best rock instrumental performance orchestra group or soloist',\n",
       "       'best hard rock/metal performance vocal or instrumental',\n",
       "       'best r&b instrumental performance orchestra group or soloist',\n",
       "       'best country instrumental performance orchestra group or soloist',\n",
       "       'best bluegrass recording vocal or instrumental',\n",
       "       'best gospel performance female', 'best gospel performance male',\n",
       "       'best gospel performance by a duo or group choir or chorus',\n",
       "       'best soul gospel performance male',\n",
       "       'best soul gospel performance by a duo group choir or chorus',\n",
       "       'best performance music video', 'best orchestral recording',\n",
       "       'best classical performance   instrumental soloists with orchestra',\n",
       "       'best classical performance   instrumental soloists without orchestra',\n",
       "       'best jazz fusion performance vocal or instrumental',\n",
       "       'best country vocal performance duet',\n",
       "       'best album or original instrumental background score written for a motion picture or television',\n",
       "       'best new age recording',\n",
       "       'best country vocal solo performance male',\n",
       "       'best classical orchestral recording',\n",
       "       'best classical performance   instrumental soloist or soloists with or without orchestra',\n",
       "       'best inspirational performance',\n",
       "       'best album of original score written for a motion picture or a television special',\n",
       "       'best cast show album',\n",
       "       'best vocal arrangement for two or more voices',\n",
       "       'best classical performance   instrumental soloist or soloists with orchestra',\n",
       "       'best classical performance   instrumental soloist or soloists without orchestra',\n",
       "       'best new classical artist',\n",
       "       'best gospel performance by a duo or group',\n",
       "       'best soul gospel performance by a duo or group',\n",
       "       'best video short form', 'best latin recording',\n",
       "       'best video album', 'best new classical composition',\n",
       "       'best new country song', 'best gospel performance contemporary',\n",
       "       'best gospel performance traditional',\n",
       "       'best soul gospel performance contemporary',\n",
       "       'best soul gospel performance traditional',\n",
       "       'best spoken word documentary or drama recording',\n",
       "       'best album of original score written for a motion picture or television special',\n",
       "       'video of the year',\n",
       "       'best arrangement on an instrumental recording',\n",
       "       'best pop vocal performance by a duo or group with vocal',\n",
       "       'best gospel performance contemporary or inspirational',\n",
       "       'best ethnic or traditional recording',\n",
       "       'best jazz fusion performance vocal or istrumental',\n",
       "       'best country performance duo or group',\n",
       "       'best spoken word documentary or drama',\n",
       "       'best arrangement accompanying vocalists',\n",
       "       'best arrangement for voices', 'best historical reissue album',\n",
       "       'best choral performance classical other than opera',\n",
       "       'best classical performance  instrumental soloist or soloists with orchestra',\n",
       "       'best pop vocal performance by a duo group or chorus',\n",
       "       'best rock vocal performance by a duo or group',\n",
       "       'best r&b vocal performance by a duo group or chorus',\n",
       "       'best disco recording', 'best arrangement accompanying vocals',\n",
       "       'best historical reissue', 'best spoken word recording',\n",
       "       'best historical repackage album',\n",
       "       'best classical orchestral performance',\n",
       "       'best classical performance instrumental soloists without orchestra',\n",
       "       'best new artist of the year',\n",
       "       'best jazz performance by a soloist',\n",
       "       'best jazz performance by a group',\n",
       "       'best jazz performance by a big band',\n",
       "       'best pop vocal performance by a group',\n",
       "       'best pop instrumental recording',\n",
       "       'best gospel performance contemporary or insprirational',\n",
       "       'best original score written for a motion picture or a television special',\n",
       "       'best classical performance instrumental soloist or soloists with orchestra',\n",
       "       'best classical performance instrumental soloist or soloists without orchestra',\n",
       "       'best arrangement for voices duo group or chorus',\n",
       "       'best jazz performance by a soloist instrumental',\n",
       "       'best soul gospel performance',\n",
       "       'best gospel performance other than soul gospel',\n",
       "       'album of best original score written for a motion picture or television special',\n",
       "       'classical album of the year', 'best album notes classical',\n",
       "       'album of best original score written for a motion picture or a television special',\n",
       "       'album of the year classical',\n",
       "       'best classical performance   orchestra',\n",
       "       'best album notes   classical',\n",
       "       'best inspirational performance non classical',\n",
       "       'best score from the original cast show album',\n",
       "       'best country & western vocal performance   female',\n",
       "       'best ethnic or traditional recording including traditional blues',\n",
       "       'best classical performance   vocal soloist', 'best album cover',\n",
       "       'best pop instrumental performance by an instrumental performer',\n",
       "       'best pop instrumental performance by an arranger composer orchestra and/or choral leader',\n",
       "       'best score from an original cast show album',\n",
       "       'best pop vocal performance by a duo or group',\n",
       "       'best r&b vocal performance by a group', 'best sacred performance',\n",
       "       'best vocal soloist performance classical',\n",
       "       'best choral performance   classical',\n",
       "       'best contemporary vocal performance female',\n",
       "       'best contemporary vocal performance male',\n",
       "       'best contemporary vocal performance by a duo group or chorus',\n",
       "       'best contemporary instrumental performance',\n",
       "       'best contemporary song',\n",
       "       'best r&b performance by a duo or group vocal or instrumental',\n",
       "       'best sacred performance musical',\n",
       "       'best jazz performance   small group or soloist with small group',\n",
       "       'best jazz performance   large group or soloist with large group',\n",
       "       'best classical performance orchestra',\n",
       "       'best contemporary vocal performance by a group',\n",
       "       'best contemporary performance by a chorus',\n",
       "       'best r&b vocal performance by a duo or group',\n",
       "       'best sacred performance non classical', 'best folk performance',\n",
       "       'best instrumental theme',\n",
       "       'best instrumental jazz performance small group or soloist with small group',\n",
       "       'best instrumental jazz performance large group or soloist with large group',\n",
       "       'best engineered recording non classical',\n",
       "       'best contemporary pop vocal performance female',\n",
       "       'best contemporary pop vocal performance male',\n",
       "       'best contemporary pop performance   vocal duo or group',\n",
       "       'best contemporary pop performance chorus',\n",
       "       'best contemporary pop performance instrumental',\n",
       "       'best rhythm & blues vocal performance female',\n",
       "       'best rhythm & blues vocal performance male',\n",
       "       'best rhythm & blues performance by a duo or group vocal or instrumental',\n",
       "       'best country performance duo or group   vocal or instrumental',\n",
       "       'best instrumental jazz performance   small group or soloist with small group',\n",
       "       'best instrumental jazz performance   large group or soloist with large group',\n",
       "       'best performance   instrumental soloist or soloists with or without orchestra',\n",
       "       'best vocal soloist performance', 'best vocal performance female',\n",
       "       'best vocal performance male', 'best instrumental performance',\n",
       "       'best performance by a vocal group',\n",
       "       'best performance by a chorus',\n",
       "       'best original score written for a motion picture or a television show',\n",
       "       'best album cover graphic arts', 'best contemporary single',\n",
       "       'best contemporary album',\n",
       "       'best contemporary female solo vocal performance',\n",
       "       'best contemporary male solo vocal performance',\n",
       "       'best contemporary group performance vocal or instrumental',\n",
       "       'best rhythm & blues recording',\n",
       "       'best rhythm & blues solo vocal performance female',\n",
       "       'best rhythm & blues solo vocal performance male',\n",
       "       'best rhythm & blues group performance vocal or instrumental',\n",
       "       'best country & western recording',\n",
       "       'best country & western solo vocal performance female',\n",
       "       'best country & western solo vocal performance male',\n",
       "       'best country & western performance duet trio or group vocal or instrumental',\n",
       "       'best country & western song',\n",
       "       'best arrangement accompanying vocalists or instrumentalists',\n",
       "       'best album cover photography',\n",
       "       'best classical choral performance other than opera',\n",
       "       'best instrumental performance other than jazz',\n",
       "       'best original score written for a motion picture or television show',\n",
       "       'best comedy performance',\n",
       "       'best classical vocal soloist performance with or without orchestra',\n",
       "       'best instrumental jazz performance   group or soloist with group',\n",
       "       'best original jazz composition',\n",
       "       'best contemporary r&r recording',\n",
       "       'best contemporary r&r solo vocal performance   male or female',\n",
       "       'best contemporary r&r group performance vocal or instrumental',\n",
       "       'best rhythm & blues solo vocal performance male or female',\n",
       "       'best folk recording', 'best sacred recording musical',\n",
       "       'best country & western vocal performance male',\n",
       "       'best arrangement accompanying a vocalist or instrumentalist',\n",
       "       'album of the year   classical',\n",
       "       'best chamber music performance   instrumental or vocal',\n",
       "       'album of the year    classical',\n",
       "       'best instrumental performance non jazz',\n",
       "       'best spoken word or drama recording',\n",
       "       'best contemporary r&r single',\n",
       "       'best contemporary r&r vocal performance   female',\n",
       "       'best contemporary r&r vocal performance   male',\n",
       "       'best contemporary r&r performance   group vocal or instrumental',\n",
       "       'best gospel or other religious recording musical',\n",
       "       'best country & western single', 'best country & western album',\n",
       "       'best country & western vocal performance   male',\n",
       "       'best album cover   photography',\n",
       "       'best album cover   graphic arts',\n",
       "       'best classical chamber music performance   instrumental or vocal',\n",
       "       'best composition by a contemporary classical composer',\n",
       "       'most promising new classical recording artist',\n",
       "       'best instrumental composition other than jazz',\n",
       "       'best instrumental performance   non jazz',\n",
       "       'best accompaniment arrangement for vocalists or instrumentalists',\n",
       "       'best documentary spoken word or drama recording other than comedy',\n",
       "       'best engineered recording   special or novel effects',\n",
       "       'best album cover  other than classical',\n",
       "       'best album cover   classical', 'best rock & roll recording',\n",
       "       'best new artist of 1964', 'best performance   orchestra',\n",
       "       'best chamber performance   instrumental',\n",
       "       'best chamber music performance   vocal',\n",
       "       'best performance   instrumental soloist or soloists with orchestra',\n",
       "       'best performance   instrumental soloist or soloists without orchestra',\n",
       "       'best vocal soloist performance with or without orchestra',\n",
       "       'best composition by a contemporary composer',\n",
       "       'best engineered recording',\n",
       "       'album of the year other than classical',\n",
       "       'best instrumental jazz performance   soloist or small group',\n",
       "       'best instrumental jazz performance   large group',\n",
       "       'best performance by an orchestra   for dancing',\n",
       "       'best performance by an orchestra or instrumentalist with orchestra   primarily not jazz or for dancing',\n",
       "       'best background arrangement behind vocalist or instrumentalist',\n",
       "       'best original score from a motion picture or television show',\n",
       "       'best classical performance   chamber music',\n",
       "       'best classical performance   instrumental soloist or duo without orchestra',\n",
       "       'best classical performance   choral other than opera',\n",
       "       'best classical performance   vocal soloist with or without orchestra',\n",
       "       'best classical composition by a contemporary composer',\n",
       "       'best album cover   other than classical',\n",
       "       'best engineered recording   other than classical',\n",
       "       'best new artist of 1963', 'best solo vocal performance female',\n",
       "       'best solo vocal performance male',\n",
       "       'best jazz performance   soloist or small group instrumental',\n",
       "       'best jazz performance   large group instrumental',\n",
       "       'best background arrangement', 'best original cast show album',\n",
       "       'best documentary or spoken word recording other than comedy',\n",
       "       'best engineering contribution   other than novelty and other than classical',\n",
       "       'best engineering contribution   novelty',\n",
       "       'best gospel or other religious recording',\n",
       "       'best new artist of 1962',\n",
       "       'best instrumental theme or instrumental version of song',\n",
       "       'best classical opera production',\n",
       "       'best performance by an orchestra   for other than dancing',\n",
       "       'best arrangement',\n",
       "       'best sound track album or recording of score from motion picture or television',\n",
       "       'best sound track album or recording of original cast from motion picture or television',\n",
       "       'best engineering contribution   popular recording',\n",
       "       'best album cover other than classical', 'best new artist of 1961',\n",
       "       'best classical performance   instrumental soloist with orchestra',\n",
       "       'best engineering contribution   classical recording',\n",
       "       'best vocal performance single record or track female',\n",
       "       'best vocal performance album female',\n",
       "       'best vocal performance single record or track male',\n",
       "       'best vocal performance album male',\n",
       "       'best performance by a band for dancing',\n",
       "       'best performance by an orchestra',\n",
       "       'best performance by a vocal group 2 to 6',\n",
       "       'best performance by a chorus 7 or more persons',\n",
       "       'best jazz performance solo or small group',\n",
       "       'best jazz performance large group',\n",
       "       'best classical performance   vocal or instrumental   chamber music',\n",
       "       'best classical performance   concerto or instrumental soloist',\n",
       "       'best classical performance   instrumental soloist or duo other than with orchestral accompaniment',\n",
       "       'best classical performance   choral including oratorio',\n",
       "       'best sound track album or recording of music score from motion picture or television',\n",
       "       'best sound track album or recording of original cast from a motion picture or television',\n",
       "       'best show album original cast',\n",
       "       'best comedy performance   spoken word',\n",
       "       'best comedy performance musical',\n",
       "       'best performance   documentary or spoken word other than comedy',\n",
       "       'best performance by a pop single artist',\n",
       "       'best country & western performance',\n",
       "       'best rhythm & blues performance', 'best performance   folk',\n",
       "       'best album created for children',\n",
       "       'best engineering contribution   novelty recording',\n",
       "       'best new artist of 1960',\n",
       "       'best jazz composition of more than five minutes duration',\n",
       "       'best performance by a dance band',\n",
       "       'best performance by a vocal group or chorus',\n",
       "       'best jazz performance   soloist', 'best jazz performance   group',\n",
       "       'best classical performance   chamber music including chamber orchestra',\n",
       "       'best classical performance   concerto or instrumental soloist with full orchestral accompaniment',\n",
       "       'best classical performance   opera cast or choral',\n",
       "       'best classical performance   concerto or instrumental soloist other than full orchestral accompaniment',\n",
       "       'best musical composition first recorded and released in 1959 more than 5 minutes duration',\n",
       "       'best sound track album   background score from a motion picture or television',\n",
       "       'best sound track album original cast   motion picture or television',\n",
       "       'best broadway show album', 'best comedy performance   musical',\n",
       "       'best performance by a \"top 40\" artist',\n",
       "       'best engineering contribution   other than classical or novelty',\n",
       "       'best new artist of 1959', 'best jazz performance individual',\n",
       "       'best jazz performance group', 'best engineered record classical',\n",
       "       'best engineered record   non classical',\n",
       "       'best musical composition first recorded and released in 1958 over 5 minutes duration',\n",
       "       'best original cast album broadway or tv',\n",
       "       'best sound track album dramatic picture score or original cast',\n",
       "       'best performance documentary or spoken word',\n",
       "       'best classical performance   instrumentalist with concerto scale accompaniment',\n",
       "       'best classical performance   instrumentalist other than concerto scale accompaniment',\n",
       "       'best classical performance   operatic or choral'], dtype=object)"
      ]
     },
     "execution_count": 30,
     "metadata": {},
     "output_type": "execute_result"
    }
   ],
   "source": [
    "grammys['category'].unique()"
   ]
  },
  {
   "cell_type": "markdown",
   "metadata": {},
   "source": [
    "8. Now, one last thing to do is to change the name of the column \"winner\" to synonym for \"nominated\"."
   ]
  },
  {
   "cell_type": "code",
   "execution_count": 31,
   "metadata": {},
   "outputs": [],
   "source": [
    "grammys.rename(columns={'winner': 'nominated'}, inplace=True)"
   ]
  },
  {
   "cell_type": "markdown",
   "metadata": {},
   "source": [
    "Now, let's see our final dataframe with the required transformations:"
   ]
  },
  {
   "cell_type": "code",
   "execution_count": 32,
   "metadata": {},
   "outputs": [
    {
     "data": {
      "text/html": [
       "<div>\n",
       "<style scoped>\n",
       "    .dataframe tbody tr th:only-of-type {\n",
       "        vertical-align: middle;\n",
       "    }\n",
       "\n",
       "    .dataframe tbody tr th {\n",
       "        vertical-align: top;\n",
       "    }\n",
       "\n",
       "    .dataframe thead th {\n",
       "        text-align: right;\n",
       "    }\n",
       "</style>\n",
       "<table border=\"1\" class=\"dataframe\">\n",
       "  <thead>\n",
       "    <tr style=\"text-align: right;\">\n",
       "      <th></th>\n",
       "      <th>year</th>\n",
       "      <th>title</th>\n",
       "      <th>category</th>\n",
       "      <th>nominee</th>\n",
       "      <th>artist</th>\n",
       "      <th>nominated</th>\n",
       "    </tr>\n",
       "  </thead>\n",
       "  <tbody>\n",
       "    <tr>\n",
       "      <th>0</th>\n",
       "      <td>2019</td>\n",
       "      <td>62nd Annual GRAMMY Awards  (2019)</td>\n",
       "      <td>record of the year</td>\n",
       "      <td>Bad Guy</td>\n",
       "      <td>Billie Eilish</td>\n",
       "      <td>True</td>\n",
       "    </tr>\n",
       "    <tr>\n",
       "      <th>1</th>\n",
       "      <td>2019</td>\n",
       "      <td>62nd Annual GRAMMY Awards  (2019)</td>\n",
       "      <td>record of the year</td>\n",
       "      <td>Hey, Ma</td>\n",
       "      <td>Bon Iver</td>\n",
       "      <td>True</td>\n",
       "    </tr>\n",
       "    <tr>\n",
       "      <th>2</th>\n",
       "      <td>2019</td>\n",
       "      <td>62nd Annual GRAMMY Awards  (2019)</td>\n",
       "      <td>record of the year</td>\n",
       "      <td>7 rings</td>\n",
       "      <td>Ariana Grande</td>\n",
       "      <td>True</td>\n",
       "    </tr>\n",
       "    <tr>\n",
       "      <th>3</th>\n",
       "      <td>2019</td>\n",
       "      <td>62nd Annual GRAMMY Awards  (2019)</td>\n",
       "      <td>record of the year</td>\n",
       "      <td>Hard Place</td>\n",
       "      <td>H.E.R.</td>\n",
       "      <td>True</td>\n",
       "    </tr>\n",
       "    <tr>\n",
       "      <th>4</th>\n",
       "      <td>2019</td>\n",
       "      <td>62nd Annual GRAMMY Awards  (2019)</td>\n",
       "      <td>record of the year</td>\n",
       "      <td>Talk</td>\n",
       "      <td>Khalid</td>\n",
       "      <td>True</td>\n",
       "    </tr>\n",
       "    <tr>\n",
       "      <th>5</th>\n",
       "      <td>2019</td>\n",
       "      <td>62nd Annual GRAMMY Awards  (2019)</td>\n",
       "      <td>record of the year</td>\n",
       "      <td>Old Town Road</td>\n",
       "      <td>Lil Nas X Featuring Billy Ray Cyrus</td>\n",
       "      <td>True</td>\n",
       "    </tr>\n",
       "    <tr>\n",
       "      <th>6</th>\n",
       "      <td>2019</td>\n",
       "      <td>62nd Annual GRAMMY Awards  (2019)</td>\n",
       "      <td>record of the year</td>\n",
       "      <td>Truth Hurts</td>\n",
       "      <td>Lizzo</td>\n",
       "      <td>True</td>\n",
       "    </tr>\n",
       "    <tr>\n",
       "      <th>7</th>\n",
       "      <td>2019</td>\n",
       "      <td>62nd Annual GRAMMY Awards  (2019)</td>\n",
       "      <td>record of the year</td>\n",
       "      <td>Sunflower</td>\n",
       "      <td>Post Malone &amp; Swae Lee</td>\n",
       "      <td>True</td>\n",
       "    </tr>\n",
       "    <tr>\n",
       "      <th>8</th>\n",
       "      <td>2019</td>\n",
       "      <td>62nd Annual GRAMMY Awards  (2019)</td>\n",
       "      <td>album of the year</td>\n",
       "      <td>When We All Fall Asleep, Where Do We Go?</td>\n",
       "      <td>Billie Eilish</td>\n",
       "      <td>True</td>\n",
       "    </tr>\n",
       "    <tr>\n",
       "      <th>9</th>\n",
       "      <td>2019</td>\n",
       "      <td>62nd Annual GRAMMY Awards  (2019)</td>\n",
       "      <td>album of the year</td>\n",
       "      <td>I,I</td>\n",
       "      <td>Bon Iver</td>\n",
       "      <td>True</td>\n",
       "    </tr>\n",
       "  </tbody>\n",
       "</table>\n",
       "</div>"
      ],
      "text/plain": [
       "   year                              title            category  \\\n",
       "0  2019  62nd Annual GRAMMY Awards  (2019)  record of the year   \n",
       "1  2019  62nd Annual GRAMMY Awards  (2019)  record of the year   \n",
       "2  2019  62nd Annual GRAMMY Awards  (2019)  record of the year   \n",
       "3  2019  62nd Annual GRAMMY Awards  (2019)  record of the year   \n",
       "4  2019  62nd Annual GRAMMY Awards  (2019)  record of the year   \n",
       "5  2019  62nd Annual GRAMMY Awards  (2019)  record of the year   \n",
       "6  2019  62nd Annual GRAMMY Awards  (2019)  record of the year   \n",
       "7  2019  62nd Annual GRAMMY Awards  (2019)  record of the year   \n",
       "8  2019  62nd Annual GRAMMY Awards  (2019)   album of the year   \n",
       "9  2019  62nd Annual GRAMMY Awards  (2019)   album of the year   \n",
       "\n",
       "                                    nominee  \\\n",
       "0                                   Bad Guy   \n",
       "1                                   Hey, Ma   \n",
       "2                                   7 rings   \n",
       "3                                Hard Place   \n",
       "4                                      Talk   \n",
       "5                             Old Town Road   \n",
       "6                               Truth Hurts   \n",
       "7                                 Sunflower   \n",
       "8  When We All Fall Asleep, Where Do We Go?   \n",
       "9                                       I,I   \n",
       "\n",
       "                                artist  nominated  \n",
       "0                        Billie Eilish       True  \n",
       "1                             Bon Iver       True  \n",
       "2                        Ariana Grande       True  \n",
       "3                               H.E.R.       True  \n",
       "4                               Khalid       True  \n",
       "5  Lil Nas X Featuring Billy Ray Cyrus       True  \n",
       "6                                Lizzo       True  \n",
       "7               Post Malone & Swae Lee       True  \n",
       "8                        Billie Eilish       True  \n",
       "9                             Bon Iver       True  "
      ]
     },
     "execution_count": 32,
     "metadata": {},
     "output_type": "execute_result"
    }
   ],
   "source": [
    "grammys.head(10)"
   ]
  },
  {
   "cell_type": "markdown",
   "metadata": {},
   "source": [
    "Let's check if after doing the transformations, we have duplicate values:"
   ]
  },
  {
   "cell_type": "code",
   "execution_count": 33,
   "metadata": {},
   "outputs": [
    {
     "data": {
      "text/html": [
       "<div>\n",
       "<style scoped>\n",
       "    .dataframe tbody tr th:only-of-type {\n",
       "        vertical-align: middle;\n",
       "    }\n",
       "\n",
       "    .dataframe tbody tr th {\n",
       "        vertical-align: top;\n",
       "    }\n",
       "\n",
       "    .dataframe thead th {\n",
       "        text-align: right;\n",
       "    }\n",
       "</style>\n",
       "<table border=\"1\" class=\"dataframe\">\n",
       "  <thead>\n",
       "    <tr style=\"text-align: right;\">\n",
       "      <th></th>\n",
       "      <th>year</th>\n",
       "      <th>title</th>\n",
       "      <th>category</th>\n",
       "      <th>nominee</th>\n",
       "      <th>artist</th>\n",
       "      <th>nominated</th>\n",
       "    </tr>\n",
       "  </thead>\n",
       "  <tbody>\n",
       "  </tbody>\n",
       "</table>\n",
       "</div>"
      ],
      "text/plain": [
       "Empty DataFrame\n",
       "Columns: [year, title, category, nominee, artist, nominated]\n",
       "Index: []"
      ]
     },
     "execution_count": 33,
     "metadata": {},
     "output_type": "execute_result"
    }
   ],
   "source": [
    "grammys.loc[df.duplicated()]"
   ]
  },
  {
   "cell_type": "markdown",
   "metadata": {},
   "source": [
    "Perfect, we do not have duplicate values. Something positive."
   ]
  }
 ],
 "metadata": {
  "kernelspec": {
   "display_name": "Python 3",
   "language": "python",
   "name": "python3"
  },
  "language_info": {
   "codemirror_mode": {
    "name": "ipython",
    "version": 3
   },
   "file_extension": ".py",
   "mimetype": "text/x-python",
   "name": "python",
   "nbconvert_exporter": "python",
   "pygments_lexer": "ipython3",
   "version": "3.10.12"
  }
 },
 "nbformat": 4,
 "nbformat_minor": 2
}
